{
  "nbformat": 4,
  "nbformat_minor": 0,
  "metadata": {
    "colab": {
      "provenance": [],
      "include_colab_link": true
    },
    "kernelspec": {
      "name": "python3",
      "display_name": "Python 3"
    },
    "language_info": {
      "name": "python"
    }
  },
  "cells": [
    {
      "cell_type": "markdown",
      "metadata": {
        "id": "view-in-github",
        "colab_type": "text"
      },
      "source": [
        "<a href=\"https://colab.research.google.com/github/Rodrigoradzinski/TrabalhosColab/blob/main/exercicios_aula2.ipynb\" target=\"_parent\"><img src=\"https://colab.research.google.com/assets/colab-badge.svg\" alt=\"Open In Colab\"/></a>"
      ]
    },
    {
      "cell_type": "markdown",
      "source": [
        "**Cleyton Rodrigo Radzinki**\n",
        "\n",
        "\n",
        "Exercícios – Aula 2 -  08/03- Atividade INDIVIDUAL- A entrega deverá ser feita enviando o link compartilhado do Google Colab.- Os exercícios deverão ser feitos considerando-se a letra inicial do seu nome.- Os exercícios de 1-5 devem ser feitos utilizando FOR, e de 6-10 utilizando WHILE."
      ],
      "metadata": {
        "id": "ilWVY8wLMX6k"
      }
    },
    {
      "cell_type": "markdown",
      "source": [
        "# **FOR**"
      ],
      "metadata": {
        "id": "gMwyrydMThg0"
      }
    },
    {
      "cell_type": "markdown",
      "source": [
        "1) Imprimir todos os números de 1 até 100, usando for."
      ],
      "metadata": {
        "id": "R37gyTUMRGVX"
      }
    },
    {
      "cell_type": "code",
      "source": [
        "for i in range(1, 101):\n",
        "    print(i)\n"
      ],
      "metadata": {
        "id": "nhLK5ou1Mca2"
      },
      "execution_count": null,
      "outputs": []
    },
    {
      "cell_type": "markdown",
      "source": [
        "2) Criar um algoritmo que imprima a tabela de conversação de polegadas para centímetros, considerando de 1 até 20 polegadas, usando for."
      ],
      "metadata": {
        "id": "0MbF_H7iRKqF"
      }
    },
    {
      "cell_type": "code",
      "source": [
        "print(\"Conversao de polegadas para Centímetros\")\n",
        "print(\"Polegadas | Centímetros\")\n",
        "for polegada in range(1, 21):\n",
        "    centimetros = polegada * 2.54\n",
        "    print(f\"{polegada:9} | {centimetros:12.2f}\")\n"
      ],
      "metadata": {
        "id": "_WIt5mPFNmpc"
      },
      "execution_count": null,
      "outputs": []
    },
    {
      "cell_type": "markdown",
      "source": [
        "3) Criar um algoritmo que fique pedindo números até que seja inserido o número -999, usando for."
      ],
      "metadata": {
        "id": "NY5vauUNRRsd"
      }
    },
    {
      "cell_type": "code",
      "source": [
        "for _ in iter(int, 1):\n",
        "    numero = int(input(\"Digite um numero (-999 para parar): \"))\n",
        "    if numero == -999:\n",
        "        break\n",
        "    else:\n",
        "        print(f\"FOr encerrado voce digitou: {numero}\")"
      ],
      "metadata": {
        "id": "5ULui7m3Rey8"
      },
      "execution_count": null,
      "outputs": []
    },
    {
      "cell_type": "markdown",
      "source": [
        "4) Criar um algoritmo que imprima os números pares no intervalo de 1 a 600, usando for."
      ],
      "metadata": {
        "id": "pAlhGp0kRpNu"
      }
    },
    {
      "cell_type": "code",
      "source": [
        "for i in range(1, 601):\n",
        "    if i % 2 == 0:\n",
        "        print(i)"
      ],
      "metadata": {
        "id": "oRCBMF9ORo1_"
      },
      "execution_count": null,
      "outputs": []
    },
    {
      "cell_type": "markdown",
      "source": [
        "5) Entrar com 4 números e imprimir o cubo e a raiz cúbica de cada número, usando for.\n"
      ],
      "metadata": {
        "id": "_k5ghCGFSC6V"
      }
    },
    {
      "cell_type": "code",
      "source": [
        "numeros = [int(input(\"Digite um número: \")) for _ in range(4)]\n",
        "for numero in numeros:\n",
        "    cubo = numero ** 3\n",
        "    raiz_cubica = numero ** (1/3)\n",
        "    print(f\"Número: {numero}, Cubo: {cubo}, Raiz cúbica: {raiz_cubica:.2f}\")"
      ],
      "metadata": {
        "id": "-z_mgRNDSGkW"
      },
      "execution_count": null,
      "outputs": []
    },
    {
      "cell_type": "markdown",
      "source": [
        "# **WHILE**"
      ],
      "metadata": {
        "id": "vRonFiq3SGRd"
      }
    },
    {
      "cell_type": "markdown",
      "source": [
        "1) Imprimir todos os números de 1 até 100, usando While."
      ],
      "metadata": {
        "id": "MOsKJd5qTcTv"
      }
    },
    {
      "cell_type": "code",
      "source": [
        "i = 1\n",
        "while i <= 100:\n",
        "    print(i)\n",
        "    i += 1"
      ],
      "metadata": {
        "id": "wOb3r1K9TsId"
      },
      "execution_count": null,
      "outputs": []
    },
    {
      "cell_type": "markdown",
      "source": [
        "2) Criar um algoritmo que imprima a tabela de conversação de polegadas para centímetros, considerando de 1 até 20 polegadas, usando while\n"
      ],
      "metadata": {
        "id": "0uuEHxKWTtvs"
      }
    },
    {
      "cell_type": "code",
      "source": [
        "print(\"Conversão de Polegadas para Centímetros\")\n",
        "print(\"Polegadas | Centímetros\")\n",
        "polegada = 1\n",
        "while polegada <= 20:\n",
        "    centimetros = polegada * 2.54\n",
        "    print(f\"{polegada:9} | {centimetros:12.2f}\")\n",
        "    polegada += 1"
      ],
      "metadata": {
        "id": "s-6_l6wbTw6M"
      },
      "execution_count": null,
      "outputs": []
    },
    {
      "cell_type": "markdown",
      "source": [
        "3) Criar um algoritmo que fique pedindo números até que seja inserido o número -999, usando while\n"
      ],
      "metadata": {
        "id": "i5-JX7gDTxT9"
      }
    },
    {
      "cell_type": "code",
      "source": [
        "while True:\n",
        "    numero = int(input(\"Digite um número (-999 para parar): \"))\n",
        "    if numero == -999:\n",
        "        print(\"For encerrado, você digitou: -999\")\n",
        "        break\n",
        "    else:\n",
        "        print(f\"Você digitou: {numero}\")"
      ],
      "metadata": {
        "id": "yxysUP7dTx4d"
      },
      "execution_count": null,
      "outputs": []
    },
    {
      "cell_type": "markdown",
      "source": [
        "4) Criar um algoritmo que imprima os números pares no intervalo de 1 a 600, usando while\n"
      ],
      "metadata": {
        "id": "JaLXXlmqTyTu"
      }
    },
    {
      "cell_type": "code",
      "source": [
        "i = 1\n",
        "while i <= 600:\n",
        "    if i % 2 == 0:\n",
        "        print(i)\n",
        "    i += 1"
      ],
      "metadata": {
        "id": "7mxBZ7zLTzXs"
      },
      "execution_count": null,
      "outputs": []
    },
    {
      "cell_type": "markdown",
      "source": [
        "5) Entrar com 4 números e imprimir o cubo e a raiz cúbica de cada número, usando WHILE."
      ],
      "metadata": {
        "id": "CWYd9kkDT0ol"
      }
    },
    {
      "cell_type": "code",
      "source": [
        "numeros = []\n",
        "count = 0\n",
        "while count < 4:\n",
        "    numero = int(input(\"Digite um número: \"))\n",
        "    numeros.append(numero)\n",
        "    count += 1\n",
        "\n",
        "for numero in numeros:\n",
        "    cubo = numero ** 3\n",
        "    raiz_cubica = numero ** (1/3)\n",
        "    print(f\"Número: {numero}, Cubo: {cubo}, Raiz cúbica: {raiz_cubica:.2f}\")\n",
        "4"
      ],
      "metadata": {
        "id": "4eGcYtpXT1Ms"
      },
      "execution_count": null,
      "outputs": []
    }
  ]
}