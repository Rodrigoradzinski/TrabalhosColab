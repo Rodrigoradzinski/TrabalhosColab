{
  "nbformat": 4,
  "nbformat_minor": 0,
  "metadata": {
    "colab": {
      "provenance": [],
      "authorship_tag": "ABX9TyOv5At5PPgcnHgmejihGMbs",
      "include_colab_link": true
    },
    "kernelspec": {
      "name": "python3",
      "display_name": "Python 3"
    },
    "language_info": {
      "name": "python"
    }
  },
  "cells": [
    {
      "cell_type": "markdown",
      "metadata": {
        "id": "view-in-github",
        "colab_type": "text"
      },
      "source": [
        "<a href=\"https://colab.research.google.com/github/Rodrigoradzinski/TrabalhosColab/blob/main/exercicios_aula3.ipynb\" target=\"_parent\"><img src=\"https://colab.research.google.com/assets/colab-badge.svg\" alt=\"Open In Colab\"/></a>"
      ]
    },
    {
      "cell_type": "markdown",
      "source": [
        "**Cleyton Rodrigo Radzinki**\n",
        "\n",
        "\n",
        "Exercícios – Aula 3 -  15/03- Atividade INDIVIDUAL- A entrega deverá ser feita enviando o link compartilhado do Google Colab.- Os exercícios deverão ser feitos considerando-se a letra inicial do seu nome."
      ],
      "metadata": {
        "id": "ilWVY8wLMX6k"
      }
    },
    {
      "cell_type": "markdown",
      "source": [
        "1) Crie um vetor com 5 elementos inteiros."
      ],
      "metadata": {
        "id": "R37gyTUMRGVX"
      }
    },
    {
      "cell_type": "code",
      "source": [
        "vetor = [5, 10, 15, 20, 25]"
      ],
      "metadata": {
        "id": "nhLK5ou1Mca2"
      },
      "execution_count": null,
      "outputs": []
    },
    {
      "cell_type": "markdown",
      "source": [
        "2) Calcule a soma de todos os elementos do vetor."
      ],
      "metadata": {
        "id": "0MbF_H7iRKqF"
      }
    },
    {
      "cell_type": "code",
      "source": [
        "soma = sum(vetor)\n",
        "print(f\"A soma  é: {soma}\")"
      ],
      "metadata": {
        "colab": {
          "base_uri": "https://localhost:8080/"
        },
        "id": "_WIt5mPFNmpc",
        "outputId": "82c489c1-eb05-4f67-f973-ccd857906bc9"
      },
      "execution_count": null,
      "outputs": [
        {
          "output_type": "stream",
          "name": "stdout",
          "text": [
            "A soma  é: 75\n"
          ]
        }
      ]
    },
    {
      "cell_type": "markdown",
      "source": [
        "3) Verifique se todos os elementos do vetor são positivos e imprima o resultado (se é positivo ou não)"
      ],
      "metadata": {
        "id": "NY5vauUNRRsd"
      }
    },
    {
      "cell_type": "code",
      "source": [
        "todos_positivos = all(x > 0 for x in vetor)\n",
        "print(\"Todos os elementos são positivos:\" if todos_positivos else \"Existem elementos não positivos.\")\n"
      ],
      "metadata": {
        "colab": {
          "base_uri": "https://localhost:8080/"
        },
        "id": "5ULui7m3Rey8",
        "outputId": "fb2d3c01-feef-45ae-af0c-3cbc80062480"
      },
      "execution_count": null,
      "outputs": [
        {
          "output_type": "stream",
          "name": "stdout",
          "text": [
            "Todos os elementos são positivos:\n"
          ]
        }
      ]
    },
    {
      "cell_type": "markdown",
      "source": [
        "4) Calcule a média aritmética dos elementos do vetor, utilize as funções vistas em aula gravada"
      ],
      "metadata": {
        "id": "pAlhGp0kRpNu"
      }
    },
    {
      "cell_type": "code",
      "source": [
        "media = soma / len(vetor)\n",
        "print(f\"A mwdia  é: {media}\")\n"
      ],
      "metadata": {
        "colab": {
          "base_uri": "https://localhost:8080/"
        },
        "id": "oRCBMF9ORo1_",
        "outputId": "7cdf509f-14e2-4134-969c-1a68460c1751"
      },
      "execution_count": null,
      "outputs": [
        {
          "output_type": "stream",
          "name": "stdout",
          "text": [
            "A média aritmética é: 15.0\n"
          ]
        }
      ]
    },
    {
      "cell_type": "markdown",
      "source": [
        "5) Remova o item da posição 4 e calcule novamente a média"
      ],
      "metadata": {
        "id": "_k5ghCGFSC6V"
      }
    },
    {
      "cell_type": "code",
      "source": [
        "vetor.pop(3)\n",
        "nova_media = sum(vetor) / len(vetor)\n",
        "print(f\"A nova media, após remover o item da posição 4, e: {nova_media}\")\n"
      ],
      "metadata": {
        "colab": {
          "base_uri": "https://localhost:8080/"
        },
        "id": "-z_mgRNDSGkW",
        "outputId": "f23b85ac-2d65-41a7-da90-c263b7e7ec3b"
      },
      "execution_count": null,
      "outputs": [
        {
          "output_type": "stream",
          "name": "stdout",
          "text": [
            "A nova média, após remover o item da posição 4, é: 13.75\n"
          ]
        }
      ]
    },
    {
      "cell_type": "markdown",
      "source": [
        "6) Escreva uma função que receba duas strings e verifique se são iguais."
      ],
      "metadata": {
        "id": "MOsKJd5qTcTv"
      }
    },
    {
      "cell_type": "code",
      "source": [
        "def verificar_igualdade(str1, str2):\n",
        "    return str1 == str2\n",
        "\n",
        "if  (verificar_igualdade(\"teste\", \"teste\")):\n",
        "    print (f\"IGUAL\")\n",
        "else:\n",
        "    print (f\"DIFERENTE\")\n",
        "if  (verificar_igualdade(\"teste\", \"teste2\")):\n",
        "    print (f\"IGUAL\")\n",
        "else:\n",
        "    print (f\"DIFERENTE\")\n"
      ],
      "metadata": {
        "colab": {
          "base_uri": "https://localhost:8080/"
        },
        "id": "yxysUP7dTx4d",
        "outputId": "0432d85d-aff6-48d6-dfbe-adac4dba2b23"
      },
      "execution_count": null,
      "outputs": [
        {
          "output_type": "stream",
          "name": "stdout",
          "text": [
            "IGUAL\n",
            "DIFERENTE\n"
          ]
        }
      ]
    },
    {
      "cell_type": "markdown",
      "source": [
        "7) Escreva uma função que receba uma lista de números e retorne a média deles."
      ],
      "metadata": {
        "id": "JaLXXlmqTyTu"
      }
    },
    {
      "cell_type": "code",
      "source": [
        "def calcular_media(lista):\n",
        "    return sum(lista) / len(lista)\n",
        "\n",
        "print(calcular_media([1, 2, 3, 4, 5]))\n"
      ],
      "metadata": {
        "colab": {
          "base_uri": "https://localhost:8080/"
        },
        "id": "7mxBZ7zLTzXs",
        "outputId": "da83b35b-da39-4d0a-8c07-488704d48d01"
      },
      "execution_count": null,
      "outputs": [
        {
          "output_type": "stream",
          "name": "stdout",
          "text": [
            "3.0\n"
          ]
        }
      ]
    },
    {
      "cell_type": "markdown",
      "source": [
        "8) Escreva uma função que, dado o valor da conta de um restaurante, calcule e exiba a gorjeta do garçom, considerando 10% do valor da conta."
      ],
      "metadata": {
        "id": "CWYd9kkDT0ol"
      }
    },
    {
      "cell_type": "code",
      "source": [
        "def calcular_gorjeta(valor_conta):\n",
        "    return valor_conta * 0.10\n",
        "\n",
        "print(calcular_gorjeta(150))\n"
      ],
      "metadata": {
        "colab": {
          "base_uri": "https://localhost:8080/"
        },
        "id": "4eGcYtpXT1Ms",
        "outputId": "1683a7e6-2c62-4a86-db0d-91dacc109862"
      },
      "execution_count": null,
      "outputs": [
        {
          "output_type": "stream",
          "name": "stdout",
          "text": [
            "15.0\n"
          ]
        }
      ]
    },
    {
      "cell_type": "markdown",
      "source": [
        "9) Crie uma função que receba o tempo em segundos e informe quantas horas tem nele."
      ],
      "metadata": {
        "id": "AaDNFf9KYaPZ"
      }
    },
    {
      "cell_type": "code",
      "source": [
        "def segundos_para_horas(segundos):\n",
        "    return segundos / 3600\n",
        "\n",
        "print(segundos_para_horas(7200))\n"
      ],
      "metadata": {
        "colab": {
          "base_uri": "https://localhost:8080/"
        },
        "id": "hNMY1ckMYdg5",
        "outputId": "7e2512d6-0e38-44ee-c3c4-ed32e1eb9f1d"
      },
      "execution_count": null,
      "outputs": [
        {
          "output_type": "stream",
          "name": "stdout",
          "text": [
            "2.0\n"
          ]
        }
      ]
    },
    {
      "cell_type": "markdown",
      "source": [
        "10) Crie uma função que receba um número e retorne seu sucessor e antecessor."
      ],
      "metadata": {
        "id": "GWdRaPeLYfCg"
      }
    },
    {
      "cell_type": "code",
      "source": [
        "def sucessor_antecessor(numero):\n",
        "    return numero - 1, numero + 1\n",
        "\n",
        "antecessor, sucessor = sucessor_antecessor(10)\n",
        "print(f\"Antecessor: {antecessor}, Sucessor: {sucessor}\")\n"
      ],
      "metadata": {
        "colab": {
          "base_uri": "https://localhost:8080/"
        },
        "id": "qvpR_IxqYfco",
        "outputId": "268ec80c-bc59-4796-a21d-51f39059c759"
      },
      "execution_count": null,
      "outputs": [
        {
          "output_type": "stream",
          "name": "stdout",
          "text": [
            "Antecessor: 9, Sucessor: 11\n"
          ]
        }
      ]
    }
  ]
}