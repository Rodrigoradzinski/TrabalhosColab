{
  "nbformat": 4,
  "nbformat_minor": 0,
  "metadata": {
    "colab": {
      "provenance": [],
      "authorship_tag": "ABX9TyNq6zAu4nU8C1wPtqLj7T+U",
      "include_colab_link": true
    },
    "kernelspec": {
      "name": "python3",
      "display_name": "Python 3"
    },
    "language_info": {
      "name": "python"
    }
  },
  "cells": [
    {
      "cell_type": "markdown",
      "metadata": {
        "id": "view-in-github",
        "colab_type": "text"
      },
      "source": [
        "<a href=\"https://colab.research.google.com/github/Rodrigoradzinski/TrabalhosColab/blob/main/Seguran%C3%A7a%20da%20Informa%C3%A7%C3%A3o.ipynb\" target=\"_parent\"><img src=\"https://colab.research.google.com/assets/colab-badge.svg\" alt=\"Open In Colab\"/></a>"
      ]
    },
    {
      "cell_type": "markdown",
      "source": [
        "Alunos:\n",
        "---\n",
        "       Cleyton Rodrigo 9 Pº\n",
        "       Douglas Mariano Santa Rosa - 5° Periodo\n",
        "\n",
        "# **Aula 9 – Introdução a Segurança da Informação**\n",
        "---\n",
        "Entre várias coisas, a segurança da informação serve para manter os ativos de\n",
        "uma empresa seguros contra possíveis atacantes e demais vulnerabilidades. Para isso,\n",
        "essa empresa precisa conhecer as falhas, para que possa trabalhar em cima delas de\n",
        "forma proativa.\n",
        "\n",
        "*   A segurança da informação se baseia então em 3 pilares:\n",
        " Confidencialidade: manter as informações confidenciais entre somente quem deve\n",
        "saber dela (lembram da aula de criptografia?)\n",
        "*   Disponibilidade: manter as informações e sistemas acessíveis para quando alguém\n",
        "quiser acessar\n",
        "* Integridade: manter as informações integras, ou seja, que não foram alteradas por\n",
        "terceiros.\n",
        "\n",
        "\n",
        "---\n",
        "\n",
        "A falha em qualquer um desses pilares cria uma brecha de segurança e pode se\n",
        "tornar um incidente, que podem ser divididos em:\n",
        "\n",
        "\n",
        "*   Humanos: causados por pessoas, de forma intencional ou não\n",
        "*   Hardware: falhas de hardware\n",
        "*   Software: falhas de software\n",
        "\n",
        "\n",
        "\n",
        "---\n",
        "\n",
        "A seguir vamos explorar algumas algumas análises que podem ser feitas para\n",
        "evitar que se tornem incidentes\n"
      ],
      "metadata": {
        "id": "9ty4zzmHMZnv"
      }
    },
    {
      "cell_type": "markdown",
      "source": [
        "# **ETAPA1**\n",
        "- Verificação de links de sites\n",
        "\n",
        "---\n",
        "\n",
        "\n",
        "\n",
        "> Muitas vezes os sistemas ou sites vão sendo atualizados e ficam páginas obsoletas no ar,\n",
        "que por chamarem funções antigas ou por terem sido esquecidas e ficarem sem\n",
        "atualizações podem ser uma porta de entrada para possíveis hackers. Vamos então listar\n",
        "todas as páginas de um site, separando os links por:\n",
        " Links externos: levam a outras páginas da internet\n",
        " Links internos: mostram os links que levam a páginas dentro daquele domínio\n"
      ],
      "metadata": {
        "id": "JeC7OFZJKq5H"
      }
    },
    {
      "cell_type": "markdown",
      "source": [
        "- Começamos fazendo a instalação de nossas bibliotecas e fazendo seu carregamento"
      ],
      "metadata": {
        "id": "_qoOaAnRKvGe"
      }
    },
    {
      "cell_type": "code",
      "execution_count": 1,
      "metadata": {
        "colab": {
          "base_uri": "https://localhost:8080/"
        },
        "id": "3w8ES9PxoMAE",
        "outputId": "448dec38-814f-42f2-90ab-ab2b9bbe9cf1"
      },
      "outputs": [
        {
          "output_type": "stream",
          "name": "stdout",
          "text": [
            "Requirement already satisfied: requests in /usr/local/lib/python3.10/dist-packages (2.31.0)\n",
            "Collecting bs4\n",
            "  Downloading bs4-0.0.2-py2.py3-none-any.whl (1.2 kB)\n",
            "Collecting colorama\n",
            "  Downloading colorama-0.4.6-py2.py3-none-any.whl (25 kB)\n",
            "Requirement already satisfied: charset-normalizer<4,>=2 in /usr/local/lib/python3.10/dist-packages (from requests) (3.3.2)\n",
            "Requirement already satisfied: idna<4,>=2.5 in /usr/local/lib/python3.10/dist-packages (from requests) (3.7)\n",
            "Requirement already satisfied: urllib3<3,>=1.21.1 in /usr/local/lib/python3.10/dist-packages (from requests) (2.0.7)\n",
            "Requirement already satisfied: certifi>=2017.4.17 in /usr/local/lib/python3.10/dist-packages (from requests) (2024.2.2)\n",
            "Requirement already satisfied: beautifulsoup4 in /usr/local/lib/python3.10/dist-packages (from bs4) (4.12.3)\n",
            "Requirement already satisfied: soupsieve>1.2 in /usr/local/lib/python3.10/dist-packages (from beautifulsoup4->bs4) (2.5)\n",
            "Installing collected packages: colorama, bs4\n",
            "Successfully installed bs4-0.0.2 colorama-0.4.6\n"
          ]
        }
      ],
      "source": [
        "!pip3 install requests bs4 colorama\n"
      ]
    },
    {
      "cell_type": "code",
      "source": [
        "import requests\n",
        "from urllib.parse import urlparse, urljoin\n",
        "from bs4 import BeautifulSoup\n",
        "import colorama\n"
      ],
      "metadata": {
        "id": "YgSo8DL1oayY"
      },
      "execution_count": 4,
      "outputs": []
    },
    {
      "cell_type": "markdown",
      "source": [
        "- Vamos mostrar os links em cores diferentes, assim fica mais fácil visualizar"
      ],
      "metadata": {
        "id": "VJkg9zOXKyOF"
      }
    },
    {
      "cell_type": "code",
      "source": [
        "colorama.init()\n",
        "GREEN = colorama.Fore.GREEN\n",
        "GRAY = colorama.Fore.LIGHTBLACK_EX\n",
        "RESET = colorama.Fore.RESET\n",
        "YELLOW = colorama.Fore.YELLOW"
      ],
      "metadata": {
        "id": "4Ci0icMKoegG"
      },
      "execution_count": 5,
      "outputs": []
    },
    {
      "cell_type": "markdown",
      "source": [
        "- Vamos separa os links em internos e externos\n"
      ],
      "metadata": {
        "id": "v2SS-qNVK0JX"
      }
    },
    {
      "cell_type": "code",
      "source": [
        "internal_urls = set()\n",
        "external_urls = set()"
      ],
      "metadata": {
        "id": "e20DKSVBohcp"
      },
      "execution_count": 6,
      "outputs": []
    },
    {
      "cell_type": "markdown",
      "source": [
        "- Fazemos uma função para checar se uma URL é válida ou não"
      ],
      "metadata": {
        "id": "Gtpikg5RK1v9"
      }
    },
    {
      "cell_type": "code",
      "source": [
        "def is_valid(url):\n",
        "  parsed = urlparse(url)\n",
        "  return bool(parsed.netloc) and bool(parsed.scheme)\n"
      ],
      "metadata": {
        "id": "nb-otlzfokKI"
      },
      "execution_count": 7,
      "outputs": []
    },
    {
      "cell_type": "markdown",
      "source": [
        "- Fazemos a função para checar as urls"
      ],
      "metadata": {
        "id": "7qVgT4w7K3h3"
      }
    },
    {
      "cell_type": "code",
      "source": [
        "def get_all_website_links(url):\n",
        "# todas as urls do site\n",
        "  urls = set()\n",
        "  # nome do domínio sem o protocolo (http por exemplo)\n",
        "  domain_name = urlparse(url).netloc\n",
        "  soup = BeautifulSoup(requests.get(url).content, \"html.parser\")\n",
        "  for a_tag in soup.findAll(\"a\"):\n",
        "    href = a_tag.attrs.get(\"href\")\n",
        "    if href == \"\" or href is None:\n",
        "    # href está sem link\n",
        "     continue\n",
        "    # junta a url se está estiver sem link\n",
        "    href = urljoin(url, href)\n",
        "    parsed_href = urlparse(href)\n",
        "    # remove parâmetros do link, se tiver.\n",
        "    href = parsed_href.scheme + \"://\" + parsed_href.netloc + parsed_href.path\n",
        "    if not is_valid(href):\n",
        "    # url inválida\n",
        "      continue\n",
        "    if href in internal_urls:\n",
        "    # já setado\n",
        "      continue\n",
        "    if domain_name not in href:\n",
        "    # link externo\n",
        "      if href not in external_urls:\n",
        "        print(f\"{GRAY}[!] External link: {href}{RESET}\")\n",
        "      external_urls.add(href)\n",
        "      continue\n",
        "    print(f\"{GREEN}[*] Internal link: {href}{RESET}\")\n",
        "    urls.add(href)\n",
        "    internal_urls.add(href)\n",
        "  return urls"
      ],
      "metadata": {
        "id": "1yPVLOqHpkJi"
      },
      "execution_count": 8,
      "outputs": []
    },
    {
      "cell_type": "markdown",
      "source": [
        "- Cria função para extrair todos os links de uma página"
      ],
      "metadata": {
        "id": "fdJldYmzK8VP"
      }
    },
    {
      "cell_type": "code",
      "source": [
        "total_urls_visited = 0\n"
      ],
      "metadata": {
        "id": "YA8rvquEp94-"
      },
      "execution_count": 9,
      "outputs": []
    },
    {
      "cell_type": "code",
      "source": [
        "def crawl(url, max_urls=30):\n",
        "  \"\"\"\n",
        "  Rastreia uma página da web e extrai todos os links.\n",
        "  Você encontrará todos os links nas variáveis de conjunto global `external_urls` e\n",
        "  `internal_urls`.\n",
        "  parâmetros:\n",
        "  max_urls (int): número máximo de URLs para rastrear, o padrão é 30.\n",
        "  \"\"\"\n",
        "  global total_urls_visited\n",
        "  total_urls_visited += 1\n",
        "  print(f\"{YELLOW}[*] Crawling: {url}{RESET}\")\n",
        "  links = get_all_website_links(url)\n",
        "  for link in links:\n",
        "    if total_urls_visited > max_urls:\n",
        "       break\n",
        "    crawl(link, max_urls=max_urls)"
      ],
      "metadata": {
        "id": "AAJhV3pBqBmu"
      },
      "execution_count": 10,
      "outputs": []
    },
    {
      "cell_type": "markdown",
      "source": [
        "- Faz a execução de todas as funções que criamos anteriormente"
      ],
      "metadata": {
        "id": "i2RBhyBWLA8J"
      }
    },
    {
      "cell_type": "code",
      "source": [
        "if __name__ == \"__main__\":\n",
        "  crawl(\"https://www.systemglass.com.br/\")\n",
        "  print(\"[+] Total Internal links:\", len(internal_urls))\n",
        "  print(\"[+] Total External links:\", len(external_urls))\n",
        "  print(\"[+] Total URLs:\", len(external_urls) + len(internal_urls))\n"
      ],
      "metadata": {
        "colab": {
          "base_uri": "https://localhost:8080/"
        },
        "id": "uIAfbTcbqOHW",
        "outputId": "bb6b21d6-1c8a-4aef-d21f-ce062af0b15a"
      },
      "execution_count": 14,
      "outputs": [
        {
          "output_type": "stream",
          "name": "stdout",
          "text": [
            "[*] Crawling: https://www.systemglass.com.br/\n",
            "[*] Internal link: https://www.systemglass.com.br/services\n",
            "[*] Internal link: https://www.systemglass.com.br/contact\n",
            "[*] Crawling: https://www.systemglass.com.br/services\n",
            "[!] External link: https://systemglass.com.br/contact\n",
            "[*] Crawling: https://www.systemglass.com.br/contact\n",
            "[!] External link: https://web.whatsapp.com/send\n",
            "[+] Total Internal links: 7\n",
            "[+] Total External links: 2\n",
            "[+] Total URLs: 9\n"
          ]
        }
      ]
    },
    {
      "cell_type": "markdown",
      "source": [
        "1) Faça a extração dos links de algum site da sua escolha, verifique se você encontra\n",
        "algum link ‘quebrado’ ou ‘estranho’"
      ],
      "metadata": {
        "id": "VotwP323LCzW"
      }
    },
    {
      "cell_type": "markdown",
      "source": [
        "R:\n",
        "\n",
        "```\n",
        "[*] Crawling: https://www.systemglass.com.br/\n",
        "[*] Internal link: https://www.systemglass.com.br/services\n",
        "[*] Internal link: https://www.systemglass.com.br/contact\n",
        "[*] Crawling: https://www.systemglass.com.br/services\n",
        "[!] External link: https://systemglass.com.br/contact\n",
        "[*] Crawling: https://www.systemglass.com.br/contact\n",
        "[!] External link: https://web.whatsapp.com/send\n",
        "[+] Total Internal links: 7\n",
        "[+] Total External links: 2\n",
        "[+] Total URLs: 9\n",
        "```\n",
        "\n"
      ],
      "metadata": {
        "id": "7KbiZj1ALEMN"
      }
    },
    {
      "cell_type": "markdown",
      "source": [
        "# **ETAPA2**\n",
        "- Verificação de portas abertas\n",
        "\n",
        "---\n",
        "\n",
        "\n",
        "\n",
        "> Muitos servidores ao fazer sua instalação deixam algumas portas abertas por padrão, e\n",
        "nem sempre todas elas são usadas. Essas portas são usadas para se comunicar com\n",
        "outros serviços, e por isso precisam ficar abertas, mas se alguma ficar sem motivo ou\n",
        "sem estar sendo usada, pode ser um alvo de ataques.\n",
        "- Vamos começar novamente fazendo a instalação e carregamento das bibliotecas\n",
        "utilizadas\n",
        "\n",
        "\n"
      ],
      "metadata": {
        "id": "WP7a4LJuqlVA"
      }
    },
    {
      "cell_type": "markdown",
      "source": [
        "Vamos configurar para cada porta ficar com uma cor **diferente**"
      ],
      "metadata": {
        "id": "DYu1x7b0rHT4"
      }
    },
    {
      "cell_type": "code",
      "source": [
        "!pip3 install colorama\n",
        "\n"
      ],
      "metadata": {
        "colab": {
          "base_uri": "https://localhost:8080/"
        },
        "id": "ua3CnclFrDKL",
        "outputId": "a82146ea-7c1d-459c-85fd-5f4f3c67a058"
      },
      "execution_count": 2,
      "outputs": [
        {
          "output_type": "stream",
          "name": "stdout",
          "text": [
            "Requirement already satisfied: colorama in /usr/local/lib/python3.10/dist-packages (0.4.6)\n"
          ]
        }
      ]
    },
    {
      "cell_type": "code",
      "source": [
        "import socket  # usado para conexão\n",
        "from colorama import init, Fore\n",
        "init()\n",
        "\n",
        "# Definição das cores\n",
        "GREEN = Fore.GREEN\n",
        "RESET = Fore.RESET\n",
        "GRAY = Fore.LIGHTBLACK_EX"
      ],
      "metadata": {
        "id": "tpvJvsQ1FfWd"
      },
      "execution_count": 1,
      "outputs": []
    },
    {
      "cell_type": "markdown",
      "source": [
        "Criamos a função para verificar quais portas estão abertas, isso é feito mandando um\n",
        "ping para a porta, se ela responder é porque está aberta. Um ping é como se fosse uma\n",
        "‘campainha’ para o servidor, dizendo que alguém quer acessar aquela porta, ou seja, ver\n",
        "se alguém ‘atende’ a campainha\n"
      ],
      "metadata": {
        "id": "6z74DchFrXqG"
      }
    },
    {
      "cell_type": "code",
      "source": [
        "import socket\n",
        "\n",
        "def is_port_open(host, port):\n",
        "    \"\"\"\n",
        "    Determine se o `host` tem a `porta` aberta.\n",
        "    \"\"\"\n",
        "    # cria uma nova conexão\n",
        "    s = socket.socket()\n",
        "    s.settimeout(0.2)\n",
        "    try:\n",
        "        # tenta se conectar ao host usando essa porta\n",
        "        s.connect((host, port))\n",
        "        # altere o tempo limite se quiser um pouco mais rápido (menos precisão)\n",
        "\n",
        "    except:\n",
        "        # não é possível conectar, a porta está fechada\n",
        "        return False\n",
        "    else:\n",
        "        # a conexão foi estabelecida, a porta está aberta!\n",
        "        return True"
      ],
      "metadata": {
        "id": "imNs8AVQrUbm"
      },
      "execution_count": 2,
      "outputs": []
    },
    {
      "cell_type": "markdown",
      "source": [
        "- Aqui pedimos ao usuário para inserir o site que quer checar as portas e fazemos a\n",
        "chamada das funções criadas anteriormente"
      ],
      "metadata": {
        "id": "pWPGutwZrxw2"
      }
    },
    {
      "cell_type": "code",
      "source": [
        "host = input(\"Insira seu site: api.systemglass.com.br \")\n",
        "host =  'api.systemglass.com.br '# 167.71.102.58\n",
        "# Iterar nas portas, de 1 a 1024#\n",
        "for port in range(8180, 8190):\n",
        "    print(f\"Verificando {host} na porta {port}...\")  # Mostra qual porta está sendo verificada\n",
        "    if is_port_open(host, port):\n",
        "        print(f\"{GREEN}[+] {host}:{port} is open{RESET}\")\n",
        "    else:\n",
        "        print(f\"{GRAY}[!] {host}:{port} is closed{RESET}\")"
      ],
      "metadata": {
        "colab": {
          "base_uri": "https://localhost:8080/"
        },
        "id": "O6l4FgywrymW",
        "outputId": "8b0f9481-4f0d-4540-d358-786c087dc885"
      },
      "execution_count": 3,
      "outputs": [
        {
          "output_type": "stream",
          "name": "stdout",
          "text": [
            "Insira seu site: api.systemglass.com.br 167.71.102.58\n",
            "Verificando api.systemglass.com.br na porta 8180...\n",
            "[!] api.systemglass.com.br:8180 is closed\n",
            "Verificando api.systemglass.com.br na porta 8181...\n",
            "[!] api.systemglass.com.br:8181 is closed\n",
            "Verificando api.systemglass.com.br na porta 8182...\n",
            "[!] api.systemglass.com.br:8182 is closed\n",
            "Verificando api.systemglass.com.br na porta 8183...\n",
            "[!] api.systemglass.com.br:8183 is closed\n",
            "Verificando api.systemglass.com.br na porta 8184...\n",
            "[!] api.systemglass.com.br:8184 is closed\n",
            "Verificando api.systemglass.com.br na porta 8185...\n",
            "[!] api.systemglass.com.br:8185 is closed\n",
            "Verificando api.systemglass.com.br na porta 8186...\n",
            "[!] api.systemglass.com.br:8186 is closed\n",
            "Verificando api.systemglass.com.br na porta 8187...\n",
            "[!] api.systemglass.com.br:8187 is closed\n",
            "Verificando api.systemglass.com.br na porta 8188...\n",
            "[!] api.systemglass.com.br:8188 is closed\n",
            "Verificando api.systemglass.com.br na porta 8189...\n",
            "[!] api.systemglass.com.br:8189 is closed\n"
          ]
        }
      ]
    },
    {
      "cell_type": "markdown",
      "source": [
        "2) Das portas abertas que você encontrou, para que serve cada uma delas? (pesquise…).\n",
        "\n",
        "\n",
        "*   Item da lista\n",
        "*   Item da lista\n",
        "\n",
        "\n",
        "\n",
        "\n",
        "E que tipos de ataques podem ser feitos a partir de portas de servidor abertas?\n"
      ],
      "metadata": {
        "id": "z0WzBR5ashmv"
      }
    },
    {
      "cell_type": "markdown",
      "source": [
        " R:\n",
        "\n",
        "\n",
        "\n",
        "\n",
        "\n",
        "\n",
        "\n",
        "\n"
      ],
      "metadata": {
        "id": "qXnLelfcstxH"
      }
    },
    {
      "cell_type": "markdown",
      "source": [
        "# **ETAPA3**\n",
        "- Verificação de subdominios\n",
        "\n",
        "---\n",
        "\n",
        "\n",
        "\n",
        "> Tal quanto páginas antigas e portas do servidor abertas, podemos verificar os\n",
        "subdominios que um site tem e ver se algum está com conteúdos antigo ou não devia\n",
        "mais estar listado, ou procurar por específicos como cpanel.site.com.br, entre outros, pois\n",
        "são nomes que são mais visados em possíveis ataques.\n",
        "Repositórios do governo geralmente ficam esquecidos com material aberto e disponível\n",
        "para consulta.\n"
      ],
      "metadata": {
        "id": "G3y9NxaFspBf"
      }
    },
    {
      "cell_type": "markdown",
      "source": [
        "- Começamos fazendo importação e instalação dos pacotes que vamos usar\n",
        "- Para procurar os subdominios vamos usar arquivos com os mais comuns, nesse link tem\n",
        "arquivos com 100 sub mais comuns, 500 e 1000. Cabe a você ver quão profundo vai\n",
        "querer investigar o site. E também selecionamos qual site vamos explorar."
      ],
      "metadata": {
        "id": "ULKnC0F8syUe"
      }
    },
    {
      "cell_type": "code",
      "source": [
        "!pip3 install requests"
      ],
      "metadata": {
        "colab": {
          "base_uri": "https://localhost:8080/"
        },
        "id": "THEnqY1Js3-R",
        "outputId": "f3b8b1c6-9f6d-430c-bd6e-e64a47a38472"
      },
      "execution_count": 17,
      "outputs": [
        {
          "output_type": "stream",
          "name": "stdout",
          "text": [
            "Requirement already satisfied: requests in /usr/local/lib/python3.10/dist-packages (2.31.0)\n",
            "Requirement already satisfied: charset-normalizer<4,>=2 in /usr/local/lib/python3.10/dist-packages (from requests) (3.3.2)\n",
            "Requirement already satisfied: idna<4,>=2.5 in /usr/local/lib/python3.10/dist-packages (from requests) (3.7)\n",
            "Requirement already satisfied: urllib3<3,>=1.21.1 in /usr/local/lib/python3.10/dist-packages (from requests) (2.0.7)\n",
            "Requirement already satisfied: certifi>=2017.4.17 in /usr/local/lib/python3.10/dist-packages (from requests) (2024.2.2)\n"
          ]
        }
      ]
    },
    {
      "cell_type": "code",
      "source": [
        "import requests\n",
        "\n",
        "# URL do arquivo de subdomínios no GitHub\n",
        "url_subdomains = \"https://raw.githubusercontent.com/rbsec/dnscan/master/subdomains-10000.txt\"\n",
        "\n",
        "# Domínio que você deseja investigar\n",
        "domain = \"fxtm.com\"\n",
        "\n",
        "# Número de subdomínios a verificar\n",
        "top_subdomains = 1000  # Ajuste este número conforme necessário\n",
        "\n",
        "# Baixando a lista de subdomínios\n",
        "response = requests.get(url_subdomains)\n",
        "subdomains = response.text.splitlines()\n",
        "\n",
        "# Reduzindo a lista para os top N subdomínios\n",
        "subdomains = subdomains[:top_subdomains]\n",
        "\n",
        "# Lista para guardar os subdomínios descobertos ou testados\n",
        "tested_subdomains = []\n",
        "\n",
        "# Testando cada subdomínio\n",
        "for index, subdomain in enumerate(subdomains, 1):\n",
        "    url = f\"http://{subdomain}.{domain}\"\n",
        "    status = \"Não Ativo\"  # Estado padrão\n",
        "    try:\n",
        "        # Tenta acessar o subdomínio\n",
        "        response = requests.get(url, timeout=5)\n",
        "        if response.status_code == 200:\n",
        "            status = \"Ativo\"\n",
        "    except requests.ConnectionError:\n",
        "        pass\n",
        "    except requests.exceptions.RequestException as e:\n",
        "        status = f\"Erro: {str(e)}\"\n",
        "\n",
        "    print(f\"{status} ({index}/{top_subdomains}): {url}\")\n",
        "    # Adiciona o subdomínio à lista com seu status\n",
        "    tested_subdomains.append(f\"{status}: {url}\")\n",
        "\n",
        "# Salvando os subdomínios testados em um arquivo\n",
        "with open('subs_encontrados.txt', 'w') as file:\n",
        "    for subdomain in tested_subdomains:\n",
        "        file.write(subdomain + '\\n')\n"
      ],
      "metadata": {
        "colab": {
          "base_uri": "https://localhost:8080/"
        },
        "id": "ZrkrzEXVtACe",
        "outputId": "61276e18-96d7-4bbc-95d8-88fd35c9950b"
      },
      "execution_count": 17,
      "outputs": [
        {
          "output_type": "stream",
          "name": "stdout",
          "text": [
            "Não Ativo (1/1000): http://www.fxtm.com\n",
            "Não Ativo (2/1000): http://mail.fxtm.com\n",
            "Não Ativo (3/1000): http://ftp.fxtm.com\n",
            "Não Ativo (4/1000): http://localhost.fxtm.com\n",
            "Não Ativo (5/1000): http://webmail.fxtm.com\n",
            "Não Ativo (6/1000): http://smtp.fxtm.com\n",
            "Não Ativo (7/1000): http://pop.fxtm.com\n",
            "Não Ativo (8/1000): http://ns1.fxtm.com\n",
            "Não Ativo (9/1000): http://webdisk.fxtm.com\n",
            "Não Ativo (10/1000): http://ns2.fxtm.com\n",
            "Não Ativo (11/1000): http://cpanel.fxtm.com\n",
            "Não Ativo (12/1000): http://whm.fxtm.com\n",
            "Ativo (13/1000): http://autodiscover.fxtm.com\n",
            "Não Ativo (14/1000): http://autoconfig.fxtm.com\n",
            "Não Ativo (15/1000): http://m.fxtm.com\n",
            "Não Ativo (16/1000): http://imap.fxtm.com\n",
            "Não Ativo (17/1000): http://test.fxtm.com\n",
            "Não Ativo (18/1000): http://ns.fxtm.com\n",
            "Não Ativo (19/1000): http://blog.fxtm.com\n",
            "Não Ativo (20/1000): http://pop3.fxtm.com\n",
            "Não Ativo (21/1000): http://dev.fxtm.com\n",
            "Não Ativo (22/1000): http://www2.fxtm.com\n",
            "Não Ativo (23/1000): http://admin.fxtm.com\n",
            "Não Ativo (24/1000): http://forum.fxtm.com\n",
            "Não Ativo (25/1000): http://news.fxtm.com\n",
            "Não Ativo (26/1000): http://vpn.fxtm.com\n",
            "Não Ativo (27/1000): http://ns3.fxtm.com\n",
            "Não Ativo (28/1000): http://mail2.fxtm.com\n",
            "Não Ativo (29/1000): http://new.fxtm.com\n",
            "Não Ativo (30/1000): http://mysql.fxtm.com\n",
            "Não Ativo (31/1000): http://old.fxtm.com\n",
            "Não Ativo (32/1000): http://lists.fxtm.com\n",
            "Não Ativo (33/1000): http://support.fxtm.com\n",
            "Não Ativo (34/1000): http://mobile.fxtm.com\n",
            "Não Ativo (35/1000): http://mx.fxtm.com\n",
            "Não Ativo (36/1000): http://static.fxtm.com\n",
            "Não Ativo (37/1000): http://docs.fxtm.com\n",
            "Não Ativo (38/1000): http://beta.fxtm.com\n",
            "Não Ativo (39/1000): http://shop.fxtm.com\n",
            "Não Ativo (40/1000): http://sql.fxtm.com\n",
            "Não Ativo (41/1000): http://secure.fxtm.com\n",
            "Não Ativo (42/1000): http://demo.fxtm.com\n",
            "Não Ativo (43/1000): http://cp.fxtm.com\n",
            "Não Ativo (44/1000): http://calendar.fxtm.com\n",
            "Não Ativo (45/1000): http://wiki.fxtm.com\n",
            "Não Ativo (46/1000): http://web.fxtm.com\n",
            "Não Ativo (47/1000): http://media.fxtm.com\n",
            "Não Ativo (48/1000): http://email.fxtm.com\n",
            "Não Ativo (49/1000): http://images.fxtm.com\n",
            "Não Ativo (50/1000): http://img.fxtm.com\n",
            "Não Ativo (51/1000): http://www1.fxtm.com\n",
            "Não Ativo (52/1000): http://intranet.fxtm.com\n",
            "Não Ativo (53/1000): http://portal.fxtm.com\n",
            "Não Ativo (54/1000): http://video.fxtm.com\n",
            "Não Ativo (55/1000): http://sip.fxtm.com\n",
            "Não Ativo (56/1000): http://dns2.fxtm.com\n",
            "Não Ativo (57/1000): http://api.fxtm.com\n",
            "Não Ativo (58/1000): http://cdn.fxtm.com\n",
            "Não Ativo (59/1000): http://stats.fxtm.com\n",
            "Não Ativo (60/1000): http://dns1.fxtm.com\n",
            "Não Ativo (61/1000): http://ns4.fxtm.com\n",
            "Não Ativo (62/1000): http://www3.fxtm.com\n",
            "Não Ativo (63/1000): http://dns.fxtm.com\n",
            "Não Ativo (64/1000): http://search.fxtm.com\n",
            "Não Ativo (65/1000): http://staging.fxtm.com\n",
            "Não Ativo (66/1000): http://server.fxtm.com\n",
            "Não Ativo (67/1000): http://mx1.fxtm.com\n",
            "Não Ativo (68/1000): http://chat.fxtm.com\n",
            "Não Ativo (69/1000): http://wap.fxtm.com\n",
            "Não Ativo (70/1000): http://my.fxtm.com\n",
            "Não Ativo (71/1000): http://svn.fxtm.com\n",
            "Não Ativo (72/1000): http://mail1.fxtm.com\n",
            "Não Ativo (73/1000): http://sites.fxtm.com\n",
            "Não Ativo (74/1000): http://proxy.fxtm.com\n",
            "Não Ativo (75/1000): http://ads.fxtm.com\n",
            "Não Ativo (76/1000): http://host.fxtm.com\n",
            "Não Ativo (77/1000): http://crm.fxtm.com\n",
            "Não Ativo (78/1000): http://cms.fxtm.com\n",
            "Não Ativo (79/1000): http://backup.fxtm.com\n",
            "Não Ativo (80/1000): http://mx2.fxtm.com\n",
            "Não Ativo (81/1000): http://lyncdiscover.fxtm.com\n",
            "Não Ativo (82/1000): http://info.fxtm.com\n",
            "Não Ativo (83/1000): http://apps.fxtm.com\n",
            "Não Ativo (84/1000): http://download.fxtm.com\n",
            "Não Ativo (85/1000): http://remote.fxtm.com\n",
            "Não Ativo (86/1000): http://db.fxtm.com\n",
            "Não Ativo (87/1000): http://forums.fxtm.com\n",
            "Não Ativo (88/1000): http://store.fxtm.com\n",
            "Não Ativo (89/1000): http://relay.fxtm.com\n",
            "Não Ativo (90/1000): http://files.fxtm.com\n",
            "Não Ativo (91/1000): http://newsletter.fxtm.com\n",
            "Não Ativo (92/1000): http://app.fxtm.com\n",
            "Não Ativo (93/1000): http://live.fxtm.com\n",
            "Não Ativo (94/1000): http://owa.fxtm.com\n",
            "Não Ativo (95/1000): http://en.fxtm.com\n",
            "Não Ativo (96/1000): http://start.fxtm.com\n",
            "Não Ativo (97/1000): http://sms.fxtm.com\n",
            "Não Ativo (98/1000): http://office.fxtm.com\n",
            "Não Ativo (99/1000): http://exchange.fxtm.com\n",
            "Não Ativo (100/1000): http://ipv4.fxtm.com\n",
            "Não Ativo (101/1000): http://mail3.fxtm.com\n",
            "Não Ativo (102/1000): http://help.fxtm.com\n",
            "Não Ativo (103/1000): http://blogs.fxtm.com\n",
            "Não Ativo (104/1000): http://helpdesk.fxtm.com\n",
            "Não Ativo (105/1000): http://web1.fxtm.com\n",
            "Não Ativo (106/1000): http://home.fxtm.com\n",
            "Não Ativo (107/1000): http://library.fxtm.com\n",
            "Não Ativo (108/1000): http://ftp2.fxtm.com\n",
            "Não Ativo (109/1000): http://ntp.fxtm.com\n",
            "Não Ativo (110/1000): http://monitor.fxtm.com\n",
            "Não Ativo (111/1000): http://login.fxtm.com\n",
            "Não Ativo (112/1000): http://service.fxtm.com\n",
            "Não Ativo (113/1000): http://correo.fxtm.com\n",
            "Não Ativo (114/1000): http://www4.fxtm.com\n",
            "Não Ativo (115/1000): http://moodle.fxtm.com\n",
            "Não Ativo (116/1000): http://it.fxtm.com\n",
            "Não Ativo (117/1000): http://gateway.fxtm.com\n",
            "Não Ativo (118/1000): http://gw.fxtm.com\n",
            "Não Ativo (119/1000): http://i.fxtm.com\n",
            "Não Ativo (120/1000): http://stat.fxtm.com\n",
            "Não Ativo (121/1000): http://stage.fxtm.com\n",
            "Não Ativo (122/1000): http://ldap.fxtm.com\n",
            "Não Ativo (123/1000): http://tv.fxtm.com\n",
            "Não Ativo (124/1000): http://ssl.fxtm.com\n",
            "Não Ativo (125/1000): http://web2.fxtm.com\n",
            "Não Ativo (126/1000): http://ns5.fxtm.com\n",
            "Não Ativo (127/1000): http://upload.fxtm.com\n",
            "Não Ativo (128/1000): http://nagios.fxtm.com\n",
            "Não Ativo (129/1000): http://smtp2.fxtm.com\n",
            "Não Ativo (130/1000): http://online.fxtm.com\n",
            "Não Ativo (131/1000): http://ad.fxtm.com\n",
            "Não Ativo (132/1000): http://survey.fxtm.com\n",
            "Não Ativo (133/1000): http://data.fxtm.com\n",
            "Não Ativo (134/1000): http://radio.fxtm.com\n",
            "Não Ativo (135/1000): http://extranet.fxtm.com\n",
            "Não Ativo (136/1000): http://test2.fxtm.com\n",
            "Não Ativo (137/1000): http://mssql.fxtm.com\n",
            "Não Ativo (138/1000): http://dns3.fxtm.com\n",
            "Não Ativo (139/1000): http://jobs.fxtm.com\n",
            "Não Ativo (140/1000): http://services.fxtm.com\n",
            "Não Ativo (141/1000): http://panel.fxtm.com\n",
            "Não Ativo (142/1000): http://irc.fxtm.com\n",
            "Não Ativo (143/1000): http://hosting.fxtm.com\n",
            "Não Ativo (144/1000): http://cloud.fxtm.com\n",
            "Não Ativo (145/1000): http://de.fxtm.com\n",
            "Não Ativo (146/1000): http://gmail.fxtm.com\n",
            "Não Ativo (147/1000): http://s.fxtm.com\n",
            "Não Ativo (148/1000): http://bbs.fxtm.com\n",
            "Não Ativo (149/1000): http://cs.fxtm.com\n",
            "Não Ativo (150/1000): http://ww.fxtm.com\n",
            "Não Ativo (151/1000): http://mrtg.fxtm.com\n",
            "Não Ativo (152/1000): http://git.fxtm.com\n",
            "Não Ativo (153/1000): http://image.fxtm.com\n",
            "Não Ativo (154/1000): http://members.fxtm.com\n",
            "Não Ativo (155/1000): http://poczta.fxtm.com\n",
            "Não Ativo (156/1000): http://s1.fxtm.com\n",
            "Não Ativo (157/1000): http://meet.fxtm.com\n",
            "Não Ativo (158/1000): http://preview.fxtm.com\n",
            "Não Ativo (159/1000): http://fr.fxtm.com\n",
            "Não Ativo (160/1000): http://cloudflare-resolve-to.fxtm.com\n",
            "Não Ativo (161/1000): http://dev2.fxtm.com\n",
            "Não Ativo (162/1000): http://photo.fxtm.com\n",
            "Não Ativo (163/1000): http://jabber.fxtm.com\n",
            "Não Ativo (164/1000): http://legacy.fxtm.com\n",
            "Não Ativo (165/1000): http://go.fxtm.com\n",
            "Não Ativo (166/1000): http://es.fxtm.com\n",
            "Não Ativo (167/1000): http://ssh.fxtm.com\n",
            "Não Ativo (168/1000): http://redmine.fxtm.com\n",
            "Não Ativo (169/1000): http://partner.fxtm.com\n",
            "Não Ativo (170/1000): http://vps.fxtm.com\n",
            "Não Ativo (171/1000): http://server1.fxtm.com\n",
            "Não Ativo (172/1000): http://sv.fxtm.com\n",
            "Não Ativo (173/1000): http://ns6.fxtm.com\n",
            "Não Ativo (174/1000): http://webmail2.fxtm.com\n",
            "Não Ativo (175/1000): http://av.fxtm.com\n",
            "Não Ativo (176/1000): http://community.fxtm.com\n",
            "Não Ativo (177/1000): http://cacti.fxtm.com\n",
            "Não Ativo (178/1000): http://time.fxtm.com\n",
            "Não Ativo (179/1000): http://sftp.fxtm.com\n",
            "Não Ativo (180/1000): http://lib.fxtm.com\n",
            "Não Ativo (181/1000): http://facebook.fxtm.com\n",
            "Não Ativo (182/1000): http://www5.fxtm.com\n",
            "Não Ativo (183/1000): http://smtp1.fxtm.com\n",
            "Não Ativo (184/1000): http://feeds.fxtm.com\n",
            "Não Ativo (185/1000): http://w.fxtm.com\n",
            "Não Ativo (186/1000): http://games.fxtm.com\n",
            "Não Ativo (187/1000): http://ts.fxtm.com\n",
            "Não Ativo (188/1000): http://alumni.fxtm.com\n",
            "Não Ativo (189/1000): http://dl.fxtm.com\n",
            "Não Ativo (190/1000): http://s2.fxtm.com\n",
            "Não Ativo (191/1000): http://phpmyadmin.fxtm.com\n",
            "Não Ativo (192/1000): http://archive.fxtm.com\n",
            "Não Ativo (193/1000): http://cn.fxtm.com\n",
            "Não Ativo (194/1000): http://tools.fxtm.com\n",
            "Não Ativo (195/1000): http://stream.fxtm.com\n",
            "Não Ativo (196/1000): http://projects.fxtm.com\n",
            "Ativo (197/1000): http://elearning.fxtm.com\n",
            "Não Ativo (198/1000): http://im.fxtm.com\n",
            "Não Ativo (199/1000): http://iphone.fxtm.com\n",
            "Não Ativo (200/1000): http://control.fxtm.com\n",
            "Não Ativo (201/1000): http://voip.fxtm.com\n",
            "Não Ativo (202/1000): http://test1.fxtm.com\n",
            "Não Ativo (203/1000): http://ws.fxtm.com\n",
            "Não Ativo (204/1000): http://rss.fxtm.com\n",
            "Não Ativo (205/1000): http://sp.fxtm.com\n",
            "Não Ativo (206/1000): http://wwww.fxtm.com\n",
            "Não Ativo (207/1000): http://vpn2.fxtm.com\n",
            "Não Ativo (208/1000): http://jira.fxtm.com\n",
            "Não Ativo (209/1000): http://list.fxtm.com\n",
            "Não Ativo (210/1000): http://connect.fxtm.com\n",
            "Não Ativo (211/1000): http://gallery.fxtm.com\n",
            "Não Ativo (212/1000): http://billing.fxtm.com\n",
            "Não Ativo (213/1000): http://mailer.fxtm.com\n",
            "Não Ativo (214/1000): http://update.fxtm.com\n",
            "Não Ativo (215/1000): http://pda.fxtm.com\n",
            "Não Ativo (216/1000): http://game.fxtm.com\n",
            "Não Ativo (217/1000): http://ns0.fxtm.com\n",
            "Não Ativo (218/1000): http://testing.fxtm.com\n",
            "Não Ativo (219/1000): http://sandbox.fxtm.com\n",
            "Não Ativo (220/1000): http://job.fxtm.com\n",
            "Não Ativo (221/1000): http://events.fxtm.com\n",
            "Não Ativo (222/1000): http://dialin.fxtm.com\n",
            "Não Ativo (223/1000): http://ml.fxtm.com\n",
            "Não Ativo (224/1000): http://fb.fxtm.com\n",
            "Não Ativo (225/1000): http://videos.fxtm.com\n",
            "Não Ativo (226/1000): http://music.fxtm.com\n",
            "Não Ativo (227/1000): http://a.fxtm.com\n",
            "Não Ativo (228/1000): http://partners.fxtm.com\n",
            "Não Ativo (229/1000): http://mailhost.fxtm.com\n",
            "Não Ativo (230/1000): http://downloads.fxtm.com\n",
            "Não Ativo (231/1000): http://reports.fxtm.com\n",
            "Não Ativo (232/1000): http://ca.fxtm.com\n",
            "Não Ativo (233/1000): http://router.fxtm.com\n",
            "Não Ativo (234/1000): http://speedtest.fxtm.com\n",
            "Não Ativo (235/1000): http://local.fxtm.com\n",
            "Não Ativo (236/1000): http://training.fxtm.com\n",
            "Não Ativo (237/1000): http://edu.fxtm.com\n",
            "Não Ativo (238/1000): http://bugs.fxtm.com\n",
            "Não Ativo (239/1000): http://manage.fxtm.com\n",
            "Não Ativo (240/1000): http://s3.fxtm.com\n",
            "Não Ativo (241/1000): http://status.fxtm.com\n",
            "Não Ativo (242/1000): http://host2.fxtm.com\n",
            "Não Ativo (243/1000): http://ww2.fxtm.com\n",
            "Não Ativo (244/1000): http://marketing.fxtm.com\n",
            "Não Ativo (245/1000): http://conference.fxtm.com\n",
            "Não Ativo (246/1000): http://content.fxtm.com\n",
            "Não Ativo (247/1000): http://network-ip.fxtm.com\n",
            "Não Ativo (248/1000): http://broadcast-ip.fxtm.com\n",
            "Não Ativo (249/1000): http://english.fxtm.com\n",
            "Não Ativo (250/1000): http://catalog.fxtm.com\n",
            "Não Ativo (251/1000): http://msoid.fxtm.com\n",
            "Não Ativo (252/1000): http://mailadmin.fxtm.com\n",
            "Não Ativo (253/1000): http://pay.fxtm.com\n",
            "Não Ativo (254/1000): http://access.fxtm.com\n",
            "Não Ativo (255/1000): http://streaming.fxtm.com\n",
            "Não Ativo (256/1000): http://project.fxtm.com\n",
            "Não Ativo (257/1000): http://t.fxtm.com\n",
            "Não Ativo (258/1000): http://sso.fxtm.com\n",
            "Não Ativo (259/1000): http://alpha.fxtm.com\n",
            "Não Ativo (260/1000): http://photos.fxtm.com\n",
            "Não Ativo (261/1000): http://staff.fxtm.com\n",
            "Não Ativo (262/1000): http://e.fxtm.com\n",
            "Não Ativo (263/1000): http://auth.fxtm.com\n",
            "Não Ativo (264/1000): http://v2.fxtm.com\n",
            "Não Ativo (265/1000): http://web5.fxtm.com\n",
            "Não Ativo (266/1000): http://web3.fxtm.com\n",
            "Não Ativo (267/1000): http://mail4.fxtm.com\n",
            "Não Ativo (268/1000): http://devel.fxtm.com\n",
            "Não Ativo (269/1000): http://post.fxtm.com\n",
            "Não Ativo (270/1000): http://us.fxtm.com\n",
            "Não Ativo (271/1000): http://images2.fxtm.com\n",
            "Não Ativo (272/1000): http://master.fxtm.com\n",
            "Não Ativo (273/1000): http://rt.fxtm.com\n",
            "Não Ativo (274/1000): http://ftp1.fxtm.com\n",
            "Não Ativo (275/1000): http://qa.fxtm.com\n",
            "Não Ativo (276/1000): http://wp.fxtm.com\n",
            "Não Ativo (277/1000): http://dns4.fxtm.com\n",
            "Não Ativo (278/1000): http://www6.fxtm.com\n",
            "Não Ativo (279/1000): http://ru.fxtm.com\n",
            "Não Ativo (280/1000): http://student.fxtm.com\n",
            "Não Ativo (281/1000): http://w3.fxtm.com\n",
            "Não Ativo (282/1000): http://citrix.fxtm.com\n",
            "Não Ativo (283/1000): http://trac.fxtm.com\n",
            "Não Ativo (284/1000): http://doc.fxtm.com\n",
            "Não Ativo (285/1000): http://img2.fxtm.com\n",
            "Não Ativo (286/1000): http://css.fxtm.com\n",
            "Não Ativo (287/1000): http://mx3.fxtm.com\n",
            "Não Ativo (288/1000): http://adm.fxtm.com\n",
            "Não Ativo (289/1000): http://web4.fxtm.com\n",
            "Não Ativo (290/1000): http://hr.fxtm.com\n",
            "Não Ativo (291/1000): http://mailserver.fxtm.com\n",
            "Não Ativo (292/1000): http://travel.fxtm.com\n",
            "Não Ativo (293/1000): http://sharepoint.fxtm.com\n",
            "Não Ativo (294/1000): http://sport.fxtm.com\n",
            "Não Ativo (295/1000): http://member.fxtm.com\n",
            "Não Ativo (296/1000): http://bb.fxtm.com\n",
            "Não Ativo (297/1000): http://agenda.fxtm.com\n",
            "Não Ativo (298/1000): http://link.fxtm.com\n",
            "Não Ativo (299/1000): http://server2.fxtm.com\n",
            "Não Ativo (300/1000): http://vod.fxtm.com\n",
            "Não Ativo (301/1000): http://uk.fxtm.com\n",
            "Não Ativo (302/1000): http://fw.fxtm.com\n",
            "Não Ativo (303/1000): http://promo.fxtm.com\n",
            "Não Ativo (304/1000): http://vip.fxtm.com\n",
            "Não Ativo (305/1000): http://noc.fxtm.com\n",
            "Não Ativo (306/1000): http://design.fxtm.com\n",
            "Não Ativo (307/1000): http://temp.fxtm.com\n",
            "Não Ativo (308/1000): http://gate.fxtm.com\n",
            "Não Ativo (309/1000): http://ns7.fxtm.com\n",
            "Não Ativo (310/1000): http://file.fxtm.com\n",
            "Não Ativo (311/1000): http://ms.fxtm.com\n",
            "Não Ativo (312/1000): http://map.fxtm.com\n",
            "Não Ativo (313/1000): http://cache.fxtm.com\n",
            "Não Ativo (314/1000): http://painel.fxtm.com\n",
            "Não Ativo (315/1000): http://js.fxtm.com\n",
            "Não Ativo (316/1000): http://event.fxtm.com\n",
            "Não Ativo (317/1000): http://mailing.fxtm.com\n",
            "Não Ativo (318/1000): http://db1.fxtm.com\n",
            "Não Ativo (319/1000): http://c.fxtm.com\n",
            "Não Ativo (320/1000): http://auto.fxtm.com\n",
            "Não Ativo (321/1000): http://img1.fxtm.com\n",
            "Não Ativo (322/1000): http://vpn1.fxtm.com\n",
            "Não Ativo (323/1000): http://business.fxtm.com\n",
            "Não Ativo (324/1000): http://mirror.fxtm.com\n",
            "Não Ativo (325/1000): http://share.fxtm.com\n",
            "Não Ativo (326/1000): http://cdn2.fxtm.com\n",
            "Não Ativo (327/1000): http://site.fxtm.com\n",
            "Não Ativo (328/1000): http://maps.fxtm.com\n",
            "Não Ativo (329/1000): http://tickets.fxtm.com\n",
            "Não Ativo (330/1000): http://tracker.fxtm.com\n",
            "Não Ativo (331/1000): http://domains.fxtm.com\n",
            "Não Ativo (332/1000): http://club.fxtm.com\n",
            "Não Ativo (333/1000): http://images1.fxtm.com\n",
            "Não Ativo (334/1000): http://zimbra.fxtm.com\n",
            "Não Ativo (335/1000): http://cvs.fxtm.com\n",
            "Não Ativo (336/1000): http://b2b.fxtm.com\n",
            "Não Ativo (337/1000): http://oa.fxtm.com\n",
            "Não Ativo (338/1000): http://intra.fxtm.com\n",
            "Não Ativo (339/1000): http://zabbix.fxtm.com\n",
            "Não Ativo (340/1000): http://ns8.fxtm.com\n",
            "Não Ativo (341/1000): http://assets.fxtm.com\n",
            "Não Ativo (342/1000): http://main.fxtm.com\n",
            "Não Ativo (343/1000): http://spam.fxtm.com\n",
            "Não Ativo (344/1000): http://lms.fxtm.com\n",
            "Não Ativo (345/1000): http://social.fxtm.com\n",
            "Não Ativo (346/1000): http://faq.fxtm.com\n",
            "Ativo (347/1000): http://feedback.fxtm.com\n",
            "Não Ativo (348/1000): http://loopback.fxtm.com\n",
            "Não Ativo (349/1000): http://groups.fxtm.com\n",
            "Não Ativo (350/1000): http://m2.fxtm.com\n",
            "Não Ativo (351/1000): http://cas.fxtm.com\n",
            "Não Ativo (352/1000): http://loghost.fxtm.com\n",
            "Não Ativo (353/1000): http://xml.fxtm.com\n",
            "Não Ativo (354/1000): http://nl.fxtm.com\n",
            "Não Ativo (355/1000): http://research.fxtm.com\n",
            "Não Ativo (356/1000): http://art.fxtm.com\n",
            "Não Ativo (357/1000): http://munin.fxtm.com\n",
            "Não Ativo (358/1000): http://dev1.fxtm.com\n",
            "Não Ativo (359/1000): http://gis.fxtm.com\n",
            "Não Ativo (360/1000): http://sales.fxtm.com\n",
            "Não Ativo (361/1000): http://images3.fxtm.com\n",
            "Não Ativo (362/1000): http://report.fxtm.com\n",
            "Não Ativo (363/1000): http://google.fxtm.com\n",
            "Não Ativo (364/1000): http://idp.fxtm.com\n",
            "Não Ativo (365/1000): http://cisco.fxtm.com\n",
            "Não Ativo (366/1000): http://careers.fxtm.com\n",
            "Não Ativo (367/1000): http://seo.fxtm.com\n",
            "Não Ativo (368/1000): http://dc.fxtm.com\n",
            "Não Ativo (369/1000): http://lab.fxtm.com\n",
            "Não Ativo (370/1000): http://d.fxtm.com\n",
            "Não Ativo (371/1000): http://firewall.fxtm.com\n",
            "Não Ativo (372/1000): http://fs.fxtm.com\n",
            "Não Ativo (373/1000): http://eng.fxtm.com\n",
            "Não Ativo (374/1000): http://ann.fxtm.com\n",
            "Não Ativo (375/1000): http://mail01.fxtm.com\n",
            "Não Ativo (376/1000): http://mantis.fxtm.com\n",
            "Não Ativo (377/1000): http://v.fxtm.com\n",
            "Não Ativo (378/1000): http://affiliates.fxtm.com\n",
            "Não Ativo (379/1000): http://webconf.fxtm.com\n",
            "Não Ativo (380/1000): http://track.fxtm.com\n",
            "Não Ativo (381/1000): http://ticket.fxtm.com\n",
            "Não Ativo (382/1000): http://pm.fxtm.com\n",
            "Não Ativo (383/1000): http://db2.fxtm.com\n",
            "Não Ativo (384/1000): http://b.fxtm.com\n",
            "Não Ativo (385/1000): http://clients.fxtm.com\n",
            "Não Ativo (386/1000): http://tech.fxtm.com\n",
            "Não Ativo (387/1000): http://erp.fxtm.com\n",
            "Não Ativo (388/1000): http://monitoring.fxtm.com\n",
            "Não Ativo (389/1000): http://cdn1.fxtm.com\n",
            "Não Ativo (390/1000): http://images4.fxtm.com\n",
            "Não Ativo (391/1000): http://payment.fxtm.com\n",
            "Não Ativo (392/1000): http://origin.fxtm.com\n",
            "Não Ativo (393/1000): http://client.fxtm.com\n",
            "Não Ativo (394/1000): http://foto.fxtm.com\n",
            "Não Ativo (395/1000): http://domain.fxtm.com\n",
            "Não Ativo (396/1000): http://pt.fxtm.com\n",
            "Não Ativo (397/1000): http://pma.fxtm.com\n",
            "Não Ativo (398/1000): http://directory.fxtm.com\n",
            "Não Ativo (399/1000): http://cc.fxtm.com\n",
            "Não Ativo (400/1000): http://public.fxtm.com\n",
            "Não Ativo (401/1000): http://finance.fxtm.com\n",
            "Não Ativo (402/1000): http://ns11.fxtm.com\n",
            "Não Ativo (403/1000): http://test3.fxtm.com\n",
            "Não Ativo (404/1000): http://wordpress.fxtm.com\n",
            "Não Ativo (405/1000): http://corp.fxtm.com\n",
            "Não Ativo (406/1000): http://sslvpn.fxtm.com\n",
            "Não Ativo (407/1000): http://cal.fxtm.com\n",
            "Não Ativo (408/1000): http://mailman.fxtm.com\n",
            "Não Ativo (409/1000): http://book.fxtm.com\n",
            "Não Ativo (410/1000): http://ip.fxtm.com\n",
            "Não Ativo (411/1000): http://zeus.fxtm.com\n",
            "Não Ativo (412/1000): http://ns10.fxtm.com\n",
            "Não Ativo (413/1000): http://hermes.fxtm.com\n",
            "Não Ativo (414/1000): http://storage.fxtm.com\n",
            "Não Ativo (415/1000): http://free.fxtm.com\n",
            "Não Ativo (416/1000): http://static1.fxtm.com\n",
            "Não Ativo (417/1000): http://pbx.fxtm.com\n",
            "Não Ativo (418/1000): http://banner.fxtm.com\n",
            "Não Ativo (419/1000): http://mobil.fxtm.com\n",
            "Não Ativo (420/1000): http://kb.fxtm.com\n",
            "Não Ativo (421/1000): http://mail5.fxtm.com\n",
            "Não Ativo (422/1000): http://direct.fxtm.com\n",
            "Não Ativo (423/1000): http://ipfixe.fxtm.com\n",
            "Não Ativo (424/1000): http://wifi.fxtm.com\n",
            "Não Ativo (425/1000): http://development.fxtm.com\n",
            "Não Ativo (426/1000): http://board.fxtm.com\n",
            "Não Ativo (427/1000): http://ns01.fxtm.com\n",
            "Não Ativo (428/1000): http://st.fxtm.com\n",
            "Não Ativo (429/1000): http://reviews.fxtm.com\n",
            "Não Ativo (430/1000): http://radius.fxtm.com\n",
            "Não Ativo (431/1000): http://pro.fxtm.com\n",
            "Não Ativo (432/1000): http://atlas.fxtm.com\n",
            "Não Ativo (433/1000): http://links.fxtm.com\n",
            "Não Ativo (434/1000): http://in.fxtm.com\n",
            "Não Ativo (435/1000): http://oldmail.fxtm.com\n",
            "Ativo (436/1000): http://register.fxtm.com\n",
            "Não Ativo (437/1000): http://s4.fxtm.com\n",
            "Não Ativo (438/1000): http://images6.fxtm.com\n",
            "Não Ativo (439/1000): http://static2.fxtm.com\n",
            "Não Ativo (440/1000): http://id.fxtm.com\n",
            "Não Ativo (441/1000): http://shopping.fxtm.com\n",
            "Não Ativo (442/1000): http://drupal.fxtm.com\n",
            "Não Ativo (443/1000): http://analytics.fxtm.com\n",
            "Não Ativo (444/1000): http://m1.fxtm.com\n",
            "Não Ativo (445/1000): http://images5.fxtm.com\n",
            "Não Ativo (446/1000): http://images7.fxtm.com\n",
            "Não Ativo (447/1000): http://img3.fxtm.com\n",
            "Não Ativo (448/1000): http://mx01.fxtm.com\n",
            "Não Ativo (449/1000): http://www7.fxtm.com\n",
            "Não Ativo (450/1000): http://redirect.fxtm.com\n",
            "Não Ativo (451/1000): http://sitebuilder.fxtm.com\n",
            "Não Ativo (452/1000): http://smtp3.fxtm.com\n",
            "Não Ativo (453/1000): http://adserver.fxtm.com\n",
            "Não Ativo (454/1000): http://net.fxtm.com\n",
            "Não Ativo (455/1000): http://user.fxtm.com\n",
            "Não Ativo (456/1000): http://forms.fxtm.com\n",
            "Não Ativo (457/1000): http://outlook.fxtm.com\n",
            "Não Ativo (458/1000): http://press.fxtm.com\n",
            "Não Ativo (459/1000): http://vc.fxtm.com\n",
            "Não Ativo (460/1000): http://health.fxtm.com\n",
            "Não Ativo (461/1000): http://work.fxtm.com\n",
            "Não Ativo (462/1000): http://mb.fxtm.com\n",
            "Não Ativo (463/1000): http://mm.fxtm.com\n",
            "Não Ativo (464/1000): http://f.fxtm.com\n",
            "Não Ativo (465/1000): http://pgsql.fxtm.com\n",
            "Não Ativo (466/1000): http://jp.fxtm.com\n",
            "Não Ativo (467/1000): http://sports.fxtm.com\n",
            "Não Ativo (468/1000): http://preprod.fxtm.com\n",
            "Não Ativo (469/1000): http://g.fxtm.com\n",
            "Não Ativo (470/1000): http://p.fxtm.com\n",
            "Não Ativo (471/1000): http://mdm.fxtm.com\n",
            "Não Ativo (472/1000): http://ar.fxtm.com\n",
            "Não Ativo (473/1000): http://lync.fxtm.com\n",
            "Não Ativo (474/1000): http://market.fxtm.com\n",
            "Não Ativo (475/1000): http://dbadmin.fxtm.com\n",
            "Não Ativo (476/1000): http://barracuda.fxtm.com\n",
            "Não Ativo (477/1000): http://affiliate.fxtm.com\n",
            "Não Ativo (478/1000): http://mars.fxtm.com\n",
            "Não Ativo (479/1000): http://users.fxtm.com\n",
            "Não Ativo (480/1000): http://images8.fxtm.com\n",
            "Não Ativo (481/1000): http://biblioteca.fxtm.com\n",
            "Não Ativo (482/1000): http://mc.fxtm.com\n",
            "Não Ativo (483/1000): http://ns12.fxtm.com\n",
            "Não Ativo (484/1000): http://math.fxtm.com\n",
            "Não Ativo (485/1000): http://ntp1.fxtm.com\n",
            "Não Ativo (486/1000): http://web01.fxtm.com\n",
            "Não Ativo (487/1000): http://software.fxtm.com\n",
            "Não Ativo (488/1000): http://pr.fxtm.com\n",
            "Não Ativo (489/1000): http://jupiter.fxtm.com\n",
            "Não Ativo (490/1000): http://labs.fxtm.com\n",
            "Não Ativo (491/1000): http://linux.fxtm.com\n",
            "Não Ativo (492/1000): http://sc.fxtm.com\n",
            "Não Ativo (493/1000): http://love.fxtm.com\n",
            "Não Ativo (494/1000): http://fax.fxtm.com\n",
            "Não Ativo (495/1000): http://php.fxtm.com\n",
            "Não Ativo (496/1000): http://lp.fxtm.com\n",
            "Não Ativo (497/1000): http://tracking.fxtm.com\n",
            "Não Ativo (498/1000): http://thumbs.fxtm.com\n",
            "Não Ativo (499/1000): http://up.fxtm.com\n",
            "Não Ativo (500/1000): http://tw.fxtm.com\n",
            "Não Ativo (501/1000): http://campus.fxtm.com\n",
            "Não Ativo (502/1000): http://reg.fxtm.com\n",
            "Não Ativo (503/1000): http://digital.fxtm.com\n",
            "Não Ativo (504/1000): http://demo2.fxtm.com\n",
            "Não Ativo (505/1000): http://da.fxtm.com\n",
            "Não Ativo (506/1000): http://tr.fxtm.com\n",
            "Não Ativo (507/1000): http://otrs.fxtm.com\n",
            "Não Ativo (508/1000): http://web6.fxtm.com\n",
            "Não Ativo (509/1000): http://ns02.fxtm.com\n",
            "Não Ativo (510/1000): http://mailgw.fxtm.com\n",
            "Não Ativo (511/1000): http://education.fxtm.com\n",
            "Não Ativo (512/1000): http://order.fxtm.com\n",
            "Não Ativo (513/1000): http://piwik.fxtm.com\n",
            "Não Ativo (514/1000): http://banners.fxtm.com\n",
            "Não Ativo (515/1000): http://rs.fxtm.com\n",
            "Não Ativo (516/1000): http://se.fxtm.com\n",
            "Não Ativo (517/1000): http://venus.fxtm.com\n",
            "Não Ativo (518/1000): http://internal.fxtm.com\n",
            "Não Ativo (519/1000): http://webservices.fxtm.com\n",
            "Não Ativo (520/1000): http://cm.fxtm.com\n",
            "Não Ativo (521/1000): http://whois.fxtm.com\n",
            "Não Ativo (522/1000): http://sync.fxtm.com\n",
            "Não Ativo (523/1000): http://lb.fxtm.com\n",
            "Não Ativo (524/1000): http://is.fxtm.com\n",
            "Não Ativo (525/1000): http://code.fxtm.com\n",
            "Não Ativo (526/1000): http://click.fxtm.com\n",
            "Não Ativo (527/1000): http://w2.fxtm.com\n",
            "Não Ativo (528/1000): http://bugzilla.fxtm.com\n",
            "Não Ativo (529/1000): http://virtual.fxtm.com\n",
            "Não Ativo (530/1000): http://origin-www.fxtm.com\n",
            "Não Ativo (531/1000): http://top.fxtm.com\n",
            "Não Ativo (532/1000): http://customer.fxtm.com\n",
            "Não Ativo (533/1000): http://pub.fxtm.com\n",
            "Não Ativo (534/1000): http://hotel.fxtm.com\n",
            "Não Ativo (535/1000): http://openx.fxtm.com\n",
            "Não Ativo (536/1000): http://log.fxtm.com\n",
            "Não Ativo (537/1000): http://uat.fxtm.com\n",
            "Não Ativo (538/1000): http://cdn3.fxtm.com\n",
            "Não Ativo (539/1000): http://images0.fxtm.com\n",
            "Não Ativo (540/1000): http://cgi.fxtm.com\n",
            "Não Ativo (541/1000): http://posta.fxtm.com\n",
            "Não Ativo (542/1000): http://reseller.fxtm.com\n",
            "Não Ativo (543/1000): http://soft.fxtm.com\n",
            "Não Ativo (544/1000): http://movie.fxtm.com\n",
            "Não Ativo (545/1000): http://mba.fxtm.com\n",
            "Não Ativo (546/1000): http://n.fxtm.com\n",
            "Não Ativo (547/1000): http://r.fxtm.com\n",
            "Não Ativo (548/1000): http://developer.fxtm.com\n",
            "Não Ativo (549/1000): http://nms.fxtm.com\n",
            "Não Ativo (550/1000): http://ns9.fxtm.com\n",
            "Não Ativo (551/1000): http://webcam.fxtm.com\n",
            "Não Ativo (552/1000): http://construtor.fxtm.com\n",
            "Não Ativo (553/1000): http://ebook.fxtm.com\n",
            "Não Ativo (554/1000): http://ftp3.fxtm.com\n",
            "Não Ativo (555/1000): http://join.fxtm.com\n",
            "Não Ativo (556/1000): http://dashboard.fxtm.com\n",
            "Não Ativo (557/1000): http://bi.fxtm.com\n",
            "Não Ativo (558/1000): http://wpad.fxtm.com\n",
            "Não Ativo (559/1000): http://admin2.fxtm.com\n",
            "Não Ativo (560/1000): http://agent.fxtm.com\n",
            "Não Ativo (561/1000): http://wm.fxtm.com\n",
            "Não Ativo (562/1000): http://books.fxtm.com\n",
            "Não Ativo (563/1000): http://joomla.fxtm.com\n",
            "Não Ativo (564/1000): http://hotels.fxtm.com\n",
            "Não Ativo (565/1000): http://ezproxy.fxtm.com\n",
            "Não Ativo (566/1000): http://ds.fxtm.com\n",
            "Não Ativo (567/1000): http://sa.fxtm.com\n",
            "Não Ativo (568/1000): http://katalog.fxtm.com\n",
            "Não Ativo (569/1000): http://team.fxtm.com\n",
            "Não Ativo (570/1000): http://emkt.fxtm.com\n",
            "Não Ativo (571/1000): http://antispam.fxtm.com\n",
            "Não Ativo (572/1000): http://adv.fxtm.com\n",
            "Não Ativo (573/1000): http://mercury.fxtm.com\n",
            "Não Ativo (574/1000): http://flash.fxtm.com\n",
            "Não Ativo (575/1000): http://myadmin.fxtm.com\n",
            "Não Ativo (576/1000): http://sklep.fxtm.com\n",
            "Não Ativo (577/1000): http://newsite.fxtm.com\n",
            "Não Ativo (578/1000): http://law.fxtm.com\n",
            "Não Ativo (579/1000): http://pl.fxtm.com\n",
            "Não Ativo (580/1000): http://ntp2.fxtm.com\n",
            "Não Ativo (581/1000): http://x.fxtm.com\n",
            "Não Ativo (582/1000): http://srv1.fxtm.com\n",
            "Não Ativo (583/1000): http://mp3.fxtm.com\n",
            "Não Ativo (584/1000): http://archives.fxtm.com\n",
            "Não Ativo (585/1000): http://proxy2.fxtm.com\n",
            "Não Ativo (586/1000): http://ps.fxtm.com\n",
            "Não Ativo (587/1000): http://pic.fxtm.com\n",
            "Não Ativo (588/1000): http://ir.fxtm.com\n",
            "Não Ativo (589/1000): http://orion.fxtm.com\n",
            "Não Ativo (590/1000): http://srv.fxtm.com\n",
            "Não Ativo (591/1000): http://mt.fxtm.com\n",
            "Não Ativo (592/1000): http://ocs.fxtm.com\n",
            "Não Ativo (593/1000): http://server3.fxtm.com\n",
            "Não Ativo (594/1000): http://meeting.fxtm.com\n",
            "Não Ativo (595/1000): http://v1.fxtm.com\n",
            "Não Ativo (596/1000): http://delta.fxtm.com\n",
            "Não Ativo (597/1000): http://titan.fxtm.com\n",
            "Não Ativo (598/1000): http://manager.fxtm.com\n",
            "Não Ativo (599/1000): http://subscribe.fxtm.com\n",
            "Não Ativo (600/1000): http://develop.fxtm.com\n",
            "Não Ativo (601/1000): http://wsus.fxtm.com\n",
            "Não Ativo (602/1000): http://oascentral.fxtm.com\n",
            "Não Ativo (603/1000): http://mobi.fxtm.com\n",
            "Não Ativo (604/1000): http://people.fxtm.com\n",
            "Não Ativo (605/1000): http://galleries.fxtm.com\n",
            "Não Ativo (606/1000): http://wwwtest.fxtm.com\n",
            "Não Ativo (607/1000): http://backoffice.fxtm.com\n",
            "Não Ativo (608/1000): http://sg.fxtm.com\n",
            "Não Ativo (609/1000): http://repo.fxtm.com\n",
            "Não Ativo (610/1000): http://soporte.fxtm.com\n",
            "Não Ativo (611/1000): http://www8.fxtm.com\n",
            "Não Ativo (612/1000): http://eu.fxtm.com\n",
            "Não Ativo (613/1000): http://ead.fxtm.com\n",
            "Não Ativo (614/1000): http://students.fxtm.com\n",
            "Não Ativo (615/1000): http://hq.fxtm.com\n",
            "Não Ativo (616/1000): http://awstats.fxtm.com\n",
            "Não Ativo (617/1000): http://ec.fxtm.com\n",
            "Não Ativo (618/1000): http://security.fxtm.com\n",
            "Não Ativo (619/1000): http://school.fxtm.com\n",
            "Não Ativo (620/1000): http://corporate.fxtm.com\n",
            "Não Ativo (621/1000): http://podcast.fxtm.com\n",
            "Não Ativo (622/1000): http://vote.fxtm.com\n",
            "Não Ativo (623/1000): http://conf.fxtm.com\n",
            "Não Ativo (624/1000): http://magento.fxtm.com\n",
            "Não Ativo (625/1000): http://mx4.fxtm.com\n",
            "Não Ativo (626/1000): http://webservice.fxtm.com\n",
            "Não Ativo (627/1000): http://tour.fxtm.com\n",
            "Não Ativo (628/1000): http://s5.fxtm.com\n",
            "Não Ativo (629/1000): http://power.fxtm.com\n",
            "Não Ativo (630/1000): http://correio.fxtm.com\n",
            "Não Ativo (631/1000): http://mon.fxtm.com\n",
            "Não Ativo (632/1000): http://mobilemail.fxtm.com\n",
            "Não Ativo (633/1000): http://weather.fxtm.com\n",
            "Não Ativo (634/1000): http://international.fxtm.com\n",
            "Não Ativo (635/1000): http://prod.fxtm.com\n",
            "Não Ativo (636/1000): http://account.fxtm.com\n",
            "Não Ativo (637/1000): http://xx.fxtm.com\n",
            "Não Ativo (638/1000): http://pages.fxtm.com\n",
            "Não Ativo (639/1000): http://pgadmin.fxtm.com\n",
            "Não Ativo (640/1000): http://bfn2.fxtm.com\n",
            "Não Ativo (641/1000): http://webserver.fxtm.com\n",
            "Não Ativo (642/1000): http://www-test.fxtm.com\n",
            "Não Ativo (643/1000): http://maintenance.fxtm.com\n",
            "Não Ativo (644/1000): http://me.fxtm.com\n",
            "Não Ativo (645/1000): http://magazine.fxtm.com\n",
            "Não Ativo (646/1000): http://syslog.fxtm.com\n",
            "Não Ativo (647/1000): http://int.fxtm.com\n",
            "Não Ativo (648/1000): http://view.fxtm.com\n",
            "Não Ativo (649/1000): http://enews.fxtm.com\n",
            "Não Ativo (650/1000): http://ci.fxtm.com\n",
            "Não Ativo (651/1000): http://au.fxtm.com\n",
            "Não Ativo (652/1000): http://mis.fxtm.com\n",
            "Não Ativo (653/1000): http://dev3.fxtm.com\n",
            "Não Ativo (654/1000): http://pdf.fxtm.com\n",
            "Não Ativo (655/1000): http://mailgate.fxtm.com\n",
            "Não Ativo (656/1000): http://v3.fxtm.com\n",
            "Não Ativo (657/1000): http://ss.fxtm.com\n",
            "Não Ativo (658/1000): http://internet.fxtm.com\n",
            "Não Ativo (659/1000): http://host1.fxtm.com\n",
            "Não Ativo (660/1000): http://smtp01.fxtm.com\n",
            "Não Ativo (661/1000): http://journal.fxtm.com\n",
            "Não Ativo (662/1000): http://wireless.fxtm.com\n",
            "Não Ativo (663/1000): http://opac.fxtm.com\n",
            "Não Ativo (664/1000): http://w1.fxtm.com\n",
            "Não Ativo (665/1000): http://signup.fxtm.com\n",
            "Não Ativo (666/1000): http://database.fxtm.com\n",
            "Não Ativo (667/1000): http://demo1.fxtm.com\n",
            "Não Ativo (668/1000): http://br.fxtm.com\n",
            "Não Ativo (669/1000): http://android.fxtm.com\n",
            "Não Ativo (670/1000): http://career.fxtm.com\n",
            "Não Ativo (671/1000): http://listserv.fxtm.com\n",
            "Não Ativo (672/1000): http://bt.fxtm.com\n",
            "Não Ativo (673/1000): http://spb.fxtm.com\n",
            "Não Ativo (674/1000): http://cam.fxtm.com\n",
            "Não Ativo (675/1000): http://contacts.fxtm.com\n",
            "Não Ativo (676/1000): http://webtest.fxtm.com\n",
            "Não Ativo (677/1000): http://resources.fxtm.com\n",
            "Não Ativo (678/1000): http://1.fxtm.com\n",
            "Não Ativo (679/1000): http://life.fxtm.com\n",
            "Não Ativo (680/1000): http://mail6.fxtm.com\n",
            "Não Ativo (681/1000): http://transfer.fxtm.com\n",
            "Não Ativo (682/1000): http://app1.fxtm.com\n",
            "Não Ativo (683/1000): http://confluence.fxtm.com\n",
            "Não Ativo (684/1000): http://controlpanel.fxtm.com\n",
            "Não Ativo (685/1000): http://secure2.fxtm.com\n",
            "Não Ativo (686/1000): http://puppet.fxtm.com\n",
            "Não Ativo (687/1000): http://classifieds.fxtm.com\n",
            "Não Ativo (688/1000): http://tunet.fxtm.com\n",
            "Não Ativo (689/1000): http://edge.fxtm.com\n",
            "Não Ativo (690/1000): http://biz.fxtm.com\n",
            "Não Ativo (691/1000): http://host3.fxtm.com\n",
            "Não Ativo (692/1000): http://red.fxtm.com\n",
            "Não Ativo (693/1000): http://newmail.fxtm.com\n",
            "Não Ativo (694/1000): http://mx02.fxtm.com\n",
            "Não Ativo (695/1000): http://sb.fxtm.com\n",
            "Não Ativo (696/1000): http://physics.fxtm.com\n",
            "Não Ativo (697/1000): http://ap.fxtm.com\n",
            "Não Ativo (698/1000): http://epaper.fxtm.com\n",
            "Não Ativo (699/1000): http://sts.fxtm.com\n",
            "Não Ativo (700/1000): http://proxy1.fxtm.com\n",
            "Não Ativo (701/1000): http://ww1.fxtm.com\n",
            "Não Ativo (702/1000): http://stg.fxtm.com\n",
            "Não Ativo (703/1000): http://sd.fxtm.com\n",
            "Não Ativo (704/1000): http://science.fxtm.com\n",
            "Não Ativo (705/1000): http://star.fxtm.com\n",
            "Não Ativo (706/1000): http://www9.fxtm.com\n",
            "Não Ativo (707/1000): http://phoenix.fxtm.com\n",
            "Não Ativo (708/1000): http://pluto.fxtm.com\n",
            "Não Ativo (709/1000): http://webdav.fxtm.com\n",
            "Não Ativo (710/1000): http://booking.fxtm.com\n",
            "Não Ativo (711/1000): http://eshop.fxtm.com\n",
            "Não Ativo (712/1000): http://edit.fxtm.com\n",
            "Não Ativo (713/1000): http://panelstats.fxtm.com\n",
            "Não Ativo (714/1000): http://xmpp.fxtm.com\n",
            "Não Ativo (715/1000): http://food.fxtm.com\n",
            "Não Ativo (716/1000): http://cert.fxtm.com\n",
            "Não Ativo (717/1000): http://adfs.fxtm.com\n",
            "Não Ativo (718/1000): http://mail02.fxtm.com\n",
            "Não Ativo (719/1000): http://cat.fxtm.com\n",
            "Não Ativo (720/1000): http://edm.fxtm.com\n",
            "Não Ativo (721/1000): http://vcenter.fxtm.com\n",
            "Não Ativo (722/1000): http://mysql2.fxtm.com\n",
            "Não Ativo (723/1000): http://sun.fxtm.com\n",
            "Não Ativo (724/1000): http://phone.fxtm.com\n",
            "Não Ativo (725/1000): http://surveys.fxtm.com\n",
            "Não Ativo (726/1000): http://smart.fxtm.com\n",
            "Não Ativo (727/1000): http://system.fxtm.com\n",
            "Não Ativo (728/1000): http://twitter.fxtm.com\n",
            "Não Ativo (729/1000): http://updates.fxtm.com\n",
            "Não Ativo (730/1000): http://webmail1.fxtm.com\n",
            "Não Ativo (731/1000): http://logs.fxtm.com\n",
            "Não Ativo (732/1000): http://sitedefender.fxtm.com\n",
            "Não Ativo (733/1000): http://as.fxtm.com\n",
            "Não Ativo (734/1000): http://cbf1.fxtm.com\n",
            "Não Ativo (735/1000): http://sugar.fxtm.com\n",
            "Não Ativo (736/1000): http://contact.fxtm.com\n",
            "Não Ativo (737/1000): http://vm.fxtm.com\n",
            "Não Ativo (738/1000): http://ipad.fxtm.com\n",
            "Não Ativo (739/1000): http://traffic.fxtm.com\n",
            "Não Ativo (740/1000): http://dm.fxtm.com\n",
            "Não Ativo (741/1000): http://saturn.fxtm.com\n",
            "Não Ativo (742/1000): http://bo.fxtm.com\n",
            "Não Ativo (743/1000): http://network.fxtm.com\n",
            "Não Ativo (744/1000): http://ac.fxtm.com\n",
            "Não Ativo (745/1000): http://ns13.fxtm.com\n",
            "Não Ativo (746/1000): http://webdev.fxtm.com\n",
            "Não Ativo (747/1000): http://libguides.fxtm.com\n",
            "Não Ativo (748/1000): http://asp.fxtm.com\n",
            "Não Ativo (749/1000): http://tm.fxtm.com\n",
            "Não Ativo (750/1000): http://core.fxtm.com\n",
            "Não Ativo (751/1000): http://mms.fxtm.com\n",
            "Não Ativo (752/1000): http://abc.fxtm.com\n",
            "Não Ativo (753/1000): http://scripts.fxtm.com\n",
            "Não Ativo (754/1000): http://fm.fxtm.com\n",
            "Não Ativo (755/1000): http://sm.fxtm.com\n",
            "Não Ativo (756/1000): http://test4.fxtm.com\n",
            "Não Ativo (757/1000): http://nas.fxtm.com\n",
            "Não Ativo (758/1000): http://newsletters.fxtm.com\n",
            "Não Ativo (759/1000): http://rsc.fxtm.com\n",
            "Não Ativo (760/1000): http://cluster.fxtm.com\n",
            "Não Ativo (761/1000): http://learn.fxtm.com\n",
            "Não Ativo (762/1000): http://panelstatsmail.fxtm.com\n",
            "Não Ativo (763/1000): http://lb1.fxtm.com\n",
            "Não Ativo (764/1000): http://usa.fxtm.com\n",
            "Não Ativo (765/1000): http://apollo.fxtm.com\n",
            "Não Ativo (766/1000): http://pre.fxtm.com\n",
            "Não Ativo (767/1000): http://terminal.fxtm.com\n",
            "Não Ativo (768/1000): http://l.fxtm.com\n",
            "Não Ativo (769/1000): http://tc.fxtm.com\n",
            "Não Ativo (770/1000): http://movies.fxtm.com\n",
            "Não Ativo (771/1000): http://sh.fxtm.com\n",
            "Não Ativo (772/1000): http://fms.fxtm.com\n",
            "Não Ativo (773/1000): http://dms.fxtm.com\n",
            "Não Ativo (774/1000): http://z.fxtm.com\n",
            "Não Ativo (775/1000): http://base.fxtm.com\n",
            "Não Ativo (776/1000): http://jwc.fxtm.com\n",
            "Não Ativo (777/1000): http://gs.fxtm.com\n",
            "Não Ativo (778/1000): http://kvm.fxtm.com\n",
            "Não Ativo (779/1000): http://bfn1.fxtm.com\n",
            "Não Ativo (780/1000): http://card.fxtm.com\n",
            "Não Ativo (781/1000): http://web02.fxtm.com\n",
            "Não Ativo (782/1000): http://lg.fxtm.com\n",
            "Não Ativo (783/1000): http://editor.fxtm.com\n",
            "Não Ativo (784/1000): http://metrics.fxtm.com\n",
            "Não Ativo (785/1000): http://feed.fxtm.com\n",
            "Não Ativo (786/1000): http://repository.fxtm.com\n",
            "Não Ativo (787/1000): http://asterisk.fxtm.com\n",
            "Não Ativo (788/1000): http://sns.fxtm.com\n",
            "Não Ativo (789/1000): http://global.fxtm.com\n",
            "Não Ativo (790/1000): http://counter.fxtm.com\n",
            "Não Ativo (791/1000): http://ch.fxtm.com\n",
            "Não Ativo (792/1000): http://sistemas.fxtm.com\n",
            "Não Ativo (793/1000): http://pc.fxtm.com\n",
            "Não Ativo (794/1000): http://china.fxtm.com\n",
            "Não Ativo (795/1000): http://u.fxtm.com\n",
            "Não Ativo (796/1000): http://payments.fxtm.com\n",
            "Não Ativo (797/1000): http://ma.fxtm.com\n",
            "Não Ativo (798/1000): http://pics.fxtm.com\n",
            "Não Ativo (799/1000): http://www10.fxtm.com\n",
            "Não Ativo (800/1000): http://e-learning.fxtm.com\n",
            "Não Ativo (801/1000): http://auction.fxtm.com\n",
            "Não Ativo (802/1000): http://hub.fxtm.com\n",
            "Não Ativo (803/1000): http://sf.fxtm.com\n",
            "Não Ativo (804/1000): http://cbf8.fxtm.com\n",
            "Não Ativo (805/1000): http://forum2.fxtm.com\n",
            "Não Ativo (806/1000): http://ns14.fxtm.com\n",
            "Não Ativo (807/1000): http://app2.fxtm.com\n",
            "Não Ativo (808/1000): http://passport.fxtm.com\n",
            "Não Ativo (809/1000): http://hd.fxtm.com\n",
            "Não Ativo (810/1000): http://talk.fxtm.com\n",
            "Não Ativo (811/1000): http://ex.fxtm.com\n",
            "Não Ativo (812/1000): http://debian.fxtm.com\n",
            "Não Ativo (813/1000): http://ct.fxtm.com\n",
            "Não Ativo (814/1000): http://rc.fxtm.com\n",
            "Não Ativo (815/1000): http://2012.fxtm.com\n",
            "Não Ativo (816/1000): http://imap4.fxtm.com\n",
            "Não Ativo (817/1000): http://blog2.fxtm.com\n",
            "Não Ativo (818/1000): http://ce.fxtm.com\n",
            "Não Ativo (819/1000): http://sk.fxtm.com\n",
            "Não Ativo (820/1000): http://relay2.fxtm.com\n",
            "Não Ativo (821/1000): http://green.fxtm.com\n",
            "Não Ativo (822/1000): http://print.fxtm.com\n",
            "Não Ativo (823/1000): http://geo.fxtm.com\n",
            "Não Ativo (824/1000): http://multimedia.fxtm.com\n",
            "Não Ativo (825/1000): http://iptv.fxtm.com\n",
            "Não Ativo (826/1000): http://backup2.fxtm.com\n",
            "Não Ativo (827/1000): http://webapps.fxtm.com\n",
            "Não Ativo (828/1000): http://audio.fxtm.com\n",
            "Não Ativo (829/1000): http://ro.fxtm.com\n",
            "Não Ativo (830/1000): http://smtp4.fxtm.com\n",
            "Não Ativo (831/1000): http://pg.fxtm.com\n",
            "Não Ativo (832/1000): http://ldap2.fxtm.com\n",
            "Não Ativo (833/1000): http://backend.fxtm.com\n",
            "Não Ativo (834/1000): http://profile.fxtm.com\n",
            "Não Ativo (835/1000): http://oldwww.fxtm.com\n",
            "Não Ativo (836/1000): http://drive.fxtm.com\n",
            "Não Ativo (837/1000): http://bill.fxtm.com\n",
            "Não Ativo (838/1000): http://listas.fxtm.com\n",
            "Não Ativo (839/1000): http://orders.fxtm.com\n",
            "Não Ativo (840/1000): http://win.fxtm.com\n",
            "Não Ativo (841/1000): http://mag.fxtm.com\n",
            "Não Ativo (842/1000): http://apply.fxtm.com\n",
            "Não Ativo (843/1000): http://bounce.fxtm.com\n",
            "Não Ativo (844/1000): http://mta.fxtm.com\n",
            "Não Ativo (845/1000): http://hp.fxtm.com\n",
            "Não Ativo (846/1000): http://suporte.fxtm.com\n",
            "Não Ativo (847/1000): http://dir.fxtm.com\n",
            "Não Ativo (848/1000): http://pa.fxtm.com\n",
            "Não Ativo (849/1000): http://sys.fxtm.com\n",
            "Não Ativo (850/1000): http://mx0.fxtm.com\n",
            "Não Ativo (851/1000): http://ems.fxtm.com\n",
            "Não Ativo (852/1000): http://antivirus.fxtm.com\n",
            "Não Ativo (853/1000): http://web8.fxtm.com\n",
            "Não Ativo (854/1000): http://inside.fxtm.com\n",
            "Não Ativo (855/1000): http://play.fxtm.com\n",
            "Não Ativo (856/1000): http://nic.fxtm.com\n",
            "Não Ativo (857/1000): http://welcome.fxtm.com\n",
            "Não Ativo (858/1000): http://premium.fxtm.com\n",
            "Não Ativo (859/1000): http://exam.fxtm.com\n",
            "Não Ativo (860/1000): http://sub.fxtm.com\n",
            "Não Ativo (861/1000): http://cz.fxtm.com\n",
            "Não Ativo (862/1000): http://omega.fxtm.com\n",
            "Não Ativo (863/1000): http://boutique.fxtm.com\n",
            "Não Ativo (864/1000): http://pp.fxtm.com\n",
            "Não Ativo (865/1000): http://management.fxtm.com\n",
            "Não Ativo (866/1000): http://planet.fxtm.com\n",
            "Não Ativo (867/1000): http://ww3.fxtm.com\n",
            "Não Ativo (868/1000): http://orange.fxtm.com\n",
            "Não Ativo (869/1000): http://c1.fxtm.com\n",
            "Não Ativo (870/1000): http://zzb.fxtm.com\n",
            "Não Ativo (871/1000): http://form.fxtm.com\n",
            "Não Ativo (872/1000): http://ecommerce.fxtm.com\n",
            "Não Ativo (873/1000): http://tmp.fxtm.com\n",
            "Não Ativo (874/1000): http://plus.fxtm.com\n",
            "Não Ativo (875/1000): http://openvpn.fxtm.com\n",
            "Não Ativo (876/1000): http://fw1.fxtm.com\n",
            "Não Ativo (877/1000): http://hk.fxtm.com\n",
            "Não Ativo (878/1000): http://owncloud.fxtm.com\n",
            "Não Ativo (879/1000): http://history.fxtm.com\n",
            "Não Ativo (880/1000): http://clientes.fxtm.com\n",
            "Não Ativo (881/1000): http://srv2.fxtm.com\n",
            "Não Ativo (882/1000): http://img4.fxtm.com\n",
            "Não Ativo (883/1000): http://open.fxtm.com\n",
            "Não Ativo (884/1000): http://registration.fxtm.com\n",
            "Não Ativo (885/1000): http://mp.fxtm.com\n",
            "Não Ativo (886/1000): http://blackboard.fxtm.com\n",
            "Não Ativo (887/1000): http://fc.fxtm.com\n",
            "Não Ativo (888/1000): http://static3.fxtm.com\n",
            "Não Ativo (889/1000): http://server4.fxtm.com\n",
            "Não Ativo (890/1000): http://s6.fxtm.com\n",
            "Não Ativo (891/1000): http://ecard.fxtm.com\n",
            "Não Ativo (892/1000): http://dspace.fxtm.com\n",
            "Não Ativo (893/1000): http://dns01.fxtm.com\n",
            "Não Ativo (894/1000): http://md.fxtm.com\n",
            "Não Ativo (895/1000): http://mcp.fxtm.com\n",
            "Não Ativo (896/1000): http://ares.fxtm.com\n",
            "Não Ativo (897/1000): http://spf.fxtm.com\n",
            "Não Ativo (898/1000): http://kms.fxtm.com\n",
            "Não Ativo (899/1000): http://intranet2.fxtm.com\n",
            "Não Ativo (900/1000): http://accounts.fxtm.com\n",
            "Não Ativo (901/1000): http://webapp.fxtm.com\n",
            "Não Ativo (902/1000): http://ask.fxtm.com\n",
            "Não Ativo (903/1000): http://rd.fxtm.com\n",
            "Não Ativo (904/1000): http://www-dev.fxtm.com\n",
            "Não Ativo (905/1000): http://gw2.fxtm.com\n",
            "Não Ativo (906/1000): http://mall.fxtm.com\n",
            "Não Ativo (907/1000): http://bg.fxtm.com\n",
            "Não Ativo (908/1000): http://teste.fxtm.com\n",
            "Não Ativo (909/1000): http://ldap1.fxtm.com\n",
            "Não Ativo (910/1000): http://real.fxtm.com\n",
            "Não Ativo (911/1000): http://m3.fxtm.com\n",
            "Não Ativo (912/1000): http://wave.fxtm.com\n",
            "Não Ativo (913/1000): http://movil.fxtm.com\n",
            "Não Ativo (914/1000): http://portal2.fxtm.com\n",
            "Não Ativo (915/1000): http://kids.fxtm.com\n",
            "Não Ativo (916/1000): http://gw1.fxtm.com\n",
            "Não Ativo (917/1000): http://ra.fxtm.com\n",
            "Não Ativo (918/1000): http://tienda.fxtm.com\n",
            "Não Ativo (919/1000): http://private.fxtm.com\n",
            "Não Ativo (920/1000): http://po.fxtm.com\n",
            "Não Ativo (921/1000): http://2013.fxtm.com\n",
            "Não Ativo (922/1000): http://cdn4.fxtm.com\n",
            "Não Ativo (923/1000): http://gps.fxtm.com\n",
            "Não Ativo (924/1000): http://km.fxtm.com\n",
            "Não Ativo (925/1000): http://ent.fxtm.com\n",
            "Não Ativo (926/1000): http://tt.fxtm.com\n",
            "Não Ativo (927/1000): http://ns21.fxtm.com\n",
            "Não Ativo (928/1000): http://at.fxtm.com\n",
            "Não Ativo (929/1000): http://athena.fxtm.com\n",
            "Não Ativo (930/1000): http://cbf2.fxtm.com\n",
            "Não Ativo (931/1000): http://webmail3.fxtm.com\n",
            "Não Ativo (932/1000): http://mob.fxtm.com\n",
            "Não Ativo (933/1000): http://matrix.fxtm.com\n",
            "Não Ativo (934/1000): http://ns15.fxtm.com\n",
            "Não Ativo (935/1000): http://send.fxtm.com\n",
            "Não Ativo (936/1000): http://lb2.fxtm.com\n",
            "Não Ativo (937/1000): http://pos.fxtm.com\n",
            "Não Ativo (938/1000): http://2.fxtm.com\n",
            "Não Ativo (939/1000): http://cl.fxtm.com\n",
            "Não Ativo (940/1000): http://renew.fxtm.com\n",
            "Não Ativo (941/1000): http://admissions.fxtm.com\n",
            "Não Ativo (942/1000): http://am.fxtm.com\n",
            "Não Ativo (943/1000): http://beta2.fxtm.com\n",
            "Não Ativo (944/1000): http://gamma.fxtm.com\n",
            "Não Ativo (945/1000): http://mx5.fxtm.com\n",
            "Não Ativo (946/1000): http://portfolio.fxtm.com\n",
            "Não Ativo (947/1000): http://contest.fxtm.com\n",
            "Não Ativo (948/1000): http://box.fxtm.com\n",
            "Não Ativo (949/1000): http://mg.fxtm.com\n",
            "Não Ativo (950/1000): http://wwwold.fxtm.com\n",
            "Não Ativo (951/1000): http://neptune.fxtm.com\n",
            "Não Ativo (952/1000): http://mac.fxtm.com\n",
            "Não Ativo (953/1000): http://pms.fxtm.com\n",
            "Não Ativo (954/1000): http://traveler.fxtm.com\n",
            "Não Ativo (955/1000): http://media2.fxtm.com\n",
            "Não Ativo (956/1000): http://studio.fxtm.com\n",
            "Não Ativo (957/1000): http://sw.fxtm.com\n",
            "Não Ativo (958/1000): http://imp.fxtm.com\n",
            "Não Ativo (959/1000): http://bs.fxtm.com\n",
            "Não Ativo (960/1000): http://alfa.fxtm.com\n",
            "Não Ativo (961/1000): http://cbf4.fxtm.com\n",
            "Não Ativo (962/1000): http://servicedesk.fxtm.com\n",
            "Não Ativo (963/1000): http://wmail.fxtm.com\n",
            "Não Ativo (964/1000): http://video2.fxtm.com\n",
            "Não Ativo (965/1000): http://switch.fxtm.com\n",
            "Não Ativo (966/1000): http://sam.fxtm.com\n",
            "Não Ativo (967/1000): http://sky.fxtm.com\n",
            "Não Ativo (968/1000): http://ee.fxtm.com\n",
            "Não Ativo (969/1000): http://widget.fxtm.com\n",
            "Não Ativo (970/1000): http://reklama.fxtm.com\n",
            "Não Ativo (971/1000): http://msn.fxtm.com\n",
            "Não Ativo (972/1000): http://paris.fxtm.com\n",
            "Não Ativo (973/1000): http://tms.fxtm.com\n",
            "Não Ativo (974/1000): http://th.fxtm.com\n",
            "Não Ativo (975/1000): http://vega.fxtm.com\n",
            "Ativo (976/1000): http://trade.fxtm.com\n",
            "Não Ativo (977/1000): http://intern.fxtm.com\n",
            "Não Ativo (978/1000): http://ext.fxtm.com\n",
            "Não Ativo (979/1000): http://oldsite.fxtm.com\n",
            "Não Ativo (980/1000): http://learning.fxtm.com\n",
            "Não Ativo (981/1000): http://group.fxtm.com\n",
            "Não Ativo (982/1000): http://f1.fxtm.com\n",
            "Não Ativo (983/1000): http://ns22.fxtm.com\n",
            "Não Ativo (984/1000): http://ns20.fxtm.com\n",
            "Não Ativo (985/1000): http://demo3.fxtm.com\n",
            "Não Ativo (986/1000): http://bm.fxtm.com\n",
            "Não Ativo (987/1000): http://dom.fxtm.com\n",
            "Não Ativo (988/1000): http://pe.fxtm.com\n",
            "Não Ativo (989/1000): http://annuaire.fxtm.com\n",
            "Não Ativo (990/1000): http://portail.fxtm.com\n",
            "Não Ativo (991/1000): http://graphics.fxtm.com\n",
            "Não Ativo (992/1000): http://iris.fxtm.com\n",
            "Não Ativo (993/1000): http://one.fxtm.com\n",
            "Não Ativo (994/1000): http://robot.fxtm.com\n",
            "Não Ativo (995/1000): http://ams.fxtm.com\n",
            "Não Ativo (996/1000): http://s7.fxtm.com\n",
            "Não Ativo (997/1000): http://foro.fxtm.com\n",
            "Não Ativo (998/1000): http://gaia.fxtm.com\n",
            "Não Ativo (999/1000): http://vpn3.fxtm.com\n",
            "Não Ativo (1000/1000): http://smtp02.fxtm.com\n"
          ]
        }
      ]
    },
    {
      "cell_type": "markdown",
      "source": [
        "3) Pesquise como salvar os subs que você encontrou dentro de um outro arquivo txt\n",
        "chamado subs_encontrados.tx"
      ],
      "metadata": {
        "id": "DjA34alYy7_v"
      }
    },
    {
      "cell_type": "markdown",
      "source": [
        "R:\n",
        "\n",
        "```\n",
        "# Salvando os subdomínios testados em um arquivo\n",
        "with open('subs_encontrados.txt', 'w') as file:\n",
        "    for subdomain in tested_subdomains:\n",
        "        file.write(subdomain + '\\n')\n",
        "```\n",
        "\n"
      ],
      "metadata": {
        "id": "2pI3mvjcy98Q"
      }
    },
    {
      "cell_type": "markdown",
      "source": [
        "![image.png](data:image/png;base64,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)"
      ],
      "metadata": {
        "id": "BNuqYawVAwwR"
      }
    },
    {
      "cell_type": "markdown",
      "source": [
        "# **ETAPA4**\n",
        "- Geração de dados fake\n",
        "\n",
        "---\n",
        "\n",
        "\n",
        "\n",
        "> As vezes queremos testar um sistema mas ficar inventando dados se torna cansativo e\n",
        "parecido, logo podemos usar o Python para criar dados falsos que podemos inserir em\n",
        "um sistema para ver como ele se comporta com dados muitas vezes fora do padrão\n",
        "esperado.\n"
      ],
      "metadata": {
        "id": "KStkbti7zBnw"
      }
    },
    {
      "cell_type": "markdown",
      "source": [
        "- Vamos começar fazendo a instalação e importação das bibliotecas"
      ],
      "metadata": {
        "id": "4tIcRaZ9zH4o"
      }
    },
    {
      "cell_type": "code",
      "source": [
        "!pip install Faker\n",
        "from faker import Faker\n",
        "from faker.providers import internet, profile\n",
        "import csv"
      ],
      "metadata": {
        "colab": {
          "base_uri": "https://localhost:8080/"
        },
        "id": "vB3ZjZLZzG_T",
        "outputId": "a855abbd-f5e5-418b-ae2f-d200f57da15f"
      },
      "execution_count": 18,
      "outputs": [
        {
          "output_type": "stream",
          "name": "stdout",
          "text": [
            "Collecting Faker\n",
            "  Downloading Faker-25.1.0-py3-none-any.whl (1.8 MB)\n",
            "\u001b[?25l     \u001b[90m━━━━━━━━━━━━━━━━━━━━━━━━━━━━━━━━━━━━━━━━\u001b[0m \u001b[32m0.0/1.8 MB\u001b[0m \u001b[31m?\u001b[0m eta \u001b[36m-:--:--\u001b[0m\r\u001b[2K     \u001b[91m━━━━━\u001b[0m\u001b[91m╸\u001b[0m\u001b[90m━━━━━━━━━━━━━━━━━━━━━━━━━━━━━━━━━━\u001b[0m \u001b[32m0.3/1.8 MB\u001b[0m \u001b[31m7.5 MB/s\u001b[0m eta \u001b[36m0:00:01\u001b[0m\r\u001b[2K     \u001b[91m━━━━━━━━━━━━━━━━━━━\u001b[0m\u001b[90m╺\u001b[0m\u001b[90m━━━━━━━━━━━━━━━━━━━━\u001b[0m \u001b[32m0.9/1.8 MB\u001b[0m \u001b[31m12.7 MB/s\u001b[0m eta \u001b[36m0:00:01\u001b[0m\r\u001b[2K     \u001b[91m━━━━━━━━━━━━━━━━━━━━━━━━━━━━━━━━━━━━━━━\u001b[0m\u001b[91m╸\u001b[0m \u001b[32m1.8/1.8 MB\u001b[0m \u001b[31m17.1 MB/s\u001b[0m eta \u001b[36m0:00:01\u001b[0m\r\u001b[2K     \u001b[90m━━━━━━━━━━━━━━━━━━━━━━━━━━━━━━━━━━━━━━━━\u001b[0m \u001b[32m1.8/1.8 MB\u001b[0m \u001b[31m14.5 MB/s\u001b[0m eta \u001b[36m0:00:00\u001b[0m\n",
            "\u001b[?25hRequirement already satisfied: python-dateutil>=2.4 in /usr/local/lib/python3.10/dist-packages (from Faker) (2.8.2)\n",
            "Requirement already satisfied: six>=1.5 in /usr/local/lib/python3.10/dist-packages (from python-dateutil>=2.4->Faker) (1.16.0)\n",
            "Installing collected packages: Faker\n",
            "Successfully installed Faker-25.1.0\n"
          ]
        }
      ]
    },
    {
      "cell_type": "markdown",
      "source": [
        "- Usando a função Fake criamos a função para gerar os dados falsos"
      ],
      "metadata": {
        "id": "pSpZnFMYzO-D"
      }
    },
    {
      "cell_type": "code",
      "source": [
        "def generate_user_data(num_of_users):\n",
        "  # cria uma instância da função fake\n",
        "  # assim podemos usar suas funções\n",
        "  fake = Faker()\n",
        "  # usado para gerar ip e endereço de internet\n",
        "  fake.add_provider(internet)\n",
        "  # inicializa uma lista vazia para armazenar os dados\n",
        "  user_data = []\n",
        "  # loop para gerar os dados de x números de usuários\n",
        "  for _ in range(num_of_users):\n",
        "  # cria um dicionário vinculado os atributos com as respostas.\n",
        "    user = {\n",
        "    'Name': fake.name(),\n",
        "    'Email': fake.free_email(),\n",
        "    'Phone Number': fake.phone_number(),\n",
        "    'Birthdate': fake.date_of_birth(),\n",
        "    'Address': fake.address(),\n",
        "    'City': fake.city(),\n",
        "    'Country': fake.country(),\n",
        "    'ZIP Code': fake.zipcode(),\n",
        "    'Job Title': fake.job(),\n",
        "    'Company': fake.company(),\n",
        "    'IP Address': fake.ipv4_private(),\n",
        "    'Credit Card Number': fake.credit_card_number(),\n",
        "    'Username': fake.user_name(),\n",
        "    'Website': fake.url(),\n",
        "    'Biography': fake.text(max_nb_chars=50)\n",
        "    }\n",
        "  user_data.append(user)\n",
        "  return user_data\n"
      ],
      "metadata": {
        "id": "MhZ_truSy62R"
      },
      "execution_count": 44,
      "outputs": []
    },
    {
      "cell_type": "markdown",
      "source": [
        "- Função para mostrar os resultados criados"
      ],
      "metadata": {
        "id": "kPCj--W32I8R"
      }
    },
    {
      "cell_type": "code",
      "source": [
        "def print_data_vertically(data):\n",
        "  for user in data:\n",
        "    for key, value in user.items():\n",
        "       print(f\"{key}: {value}\")\n",
        "  print()"
      ],
      "metadata": {
        "id": "TNXU4AZZ2J_Y"
      },
      "execution_count": 41,
      "outputs": []
    },
    {
      "cell_type": "markdown",
      "source": [
        "Chame as funções criadas\n"
      ],
      "metadata": {
        "id": "IcW2w43x2SNo"
      }
    },
    {
      "cell_type": "code",
      "source": [
        "quantidadeUsersfake = int(input(\"[!] Quantidade de usuários que quer gerar os dados: \"))\n",
        "dados_usuario = generate_user_data(quantidadeUsersfake)\n",
        "print_data_vertically(dados_usuario)\n"
      ],
      "metadata": {
        "colab": {
          "base_uri": "https://localhost:8080/"
        },
        "id": "_9_vW4uw2Rf4",
        "outputId": "90609ee3-cc95-49bb-90cf-aba3182fa73c"
      },
      "execution_count": 45,
      "outputs": [
        {
          "output_type": "stream",
          "name": "stdout",
          "text": [
            "[!] Quantidade de usuários que quer gerar os dados: 10\n",
            "Name: Sean King\n",
            "Email: laurataylor@yahoo.com\n",
            "Phone Number: 3919175309\n",
            "Birthdate: 1934-10-11\n",
            "Address: 91238 Herring Turnpike Apt. 523\n",
            "Hamptonmouth, MT 96444\n",
            "City: Port Mariastad\n",
            "Country: Falkland Islands (Malvinas)\n",
            "ZIP Code: 85608\n",
            "Job Title: Bonds trader\n",
            "Company: Wood, Mckinney and Huff\n",
            "IP Address: 10.246.41.109\n",
            "Credit Card Number: 3596033646146659\n",
            "Username: khandennis\n",
            "Website: https://foster.com/\n",
            "Biography: Oil change business down. Kind least trade lose.\n",
            "\n"
          ]
        }
      ]
    },
    {
      "cell_type": "markdown",
      "source": [
        "4) Pesquise a biblioteca Fake e add para a função também gerar uma pequena biografia\n",
        "do usuário criado. Caso necessário utilize o tradutor para traduzir a página."
      ],
      "metadata": {
        "id": "6dl5F7Ll4y8h"
      }
    },
    {
      "cell_type": "markdown",
      "source": [
        "R:\n",
        "\n",
        "```\n",
        "Biography: Oil change business down. Kind least trade lose.\n",
        "```\n",
        "\n",
        "\n"
      ],
      "metadata": {
        "id": "WiZshYEi4z1Q"
      }
    },
    {
      "cell_type": "markdown",
      "source": [
        "# **ETAPA5**\n",
        "-  Verificação de metadados\n",
        "\n",
        "\n",
        "---\n",
        "\n",
        "\n",
        "\n",
        "> - Metadados são dados de dados, ou seja, dados de um determinado aqui, como quem fez\n",
        "sua criação, data, quando foi alterado, etc.\n"
      ],
      "metadata": {
        "id": "12GjyO-K447x"
      }
    },
    {
      "cell_type": "markdown",
      "source": [
        "- Vamos começar fazendo a instalação e importação das bibliotecas"
      ],
      "metadata": {
        "id": "4gea9ze75Swq"
      }
    },
    {
      "cell_type": "code",
      "source": [
        "!pip install python-docx"
      ],
      "metadata": {
        "colab": {
          "base_uri": "https://localhost:8080/"
        },
        "id": "5v5rpDsp5VON",
        "outputId": "bf72231a-b587-4351-836c-188921d746ee"
      },
      "execution_count": 46,
      "outputs": [
        {
          "output_type": "stream",
          "name": "stdout",
          "text": [
            "Collecting python-docx\n",
            "  Downloading python_docx-1.1.2-py3-none-any.whl (244 kB)\n",
            "\u001b[2K     \u001b[90m━━━━━━━━━━━━━━━━━━━━━━━━━━━━━━━━━━━━━━━━\u001b[0m \u001b[32m244.3/244.3 kB\u001b[0m \u001b[31m3.9 MB/s\u001b[0m eta \u001b[36m0:00:00\u001b[0m\n",
            "\u001b[?25hRequirement already satisfied: lxml>=3.1.0 in /usr/local/lib/python3.10/dist-packages (from python-docx) (4.9.4)\n",
            "Requirement already satisfied: typing-extensions>=4.9.0 in /usr/local/lib/python3.10/dist-packages (from python-docx) (4.11.0)\n",
            "Installing collected packages: python-docx\n",
            "Successfully installed python-docx-1.1.2\n"
          ]
        }
      ]
    },
    {
      "cell_type": "code",
      "source": [
        "import docx # biblioteca para lidar com documentos word\n",
        "from pprint import pprint # Função pprint pra fazer um print mais bonitinho."
      ],
      "metadata": {
        "id": "Nqs3KrTM5XPx"
      },
      "execution_count": 47,
      "outputs": []
    },
    {
      "cell_type": "code",
      "source": [
        "def extract_metadata(docx_file):\n",
        "    doc = docx.Document(docx_file)  # cria um objeto documento de um arquivo do word.\n",
        "    core_properties = doc.core_properties  # pega as propriedades do documento.\n",
        "    metadata = {}  # inicializa uma variável para armazenar os dados do documento\n",
        "\n",
        "    # faz a extração das propriedades\n",
        "    for prop in dir(core_properties):  # faz a iteração em todas as propriedades.\n",
        "        if prop.startswith('__'):  # pula as propriedades que começam com __\n",
        "            continue\n",
        "        value = getattr(core_properties, prop)  # pega o valor da propriedade.\n",
        "        if callable(value):  # pula os métodos do tipo callable\n",
        "            continue\n",
        "        if prop == 'created' or prop == 'modified' or prop == 'last_printed':\n",
        "            if value:\n",
        "                value = value.strftime('%Y-%m-%d %H:%M:%S')  # converte para formato de string.\n",
        "            else:\n",
        "                value = None\n",
        "        metadata[prop] = value  # salva as propriedades.\n",
        "\n",
        "    # faz as extrações de propriedades personalizadas, se existir\n",
        "    try:\n",
        "        custom_properties = core_properties.custom_properties\n",
        "        if custom_properties:\n",
        "            metadata['custom_properties'] = {}\n",
        "            for prop in custom_properties:\n",
        "                metadata['custom_properties'][prop.name] = prop.value\n",
        "    except AttributeError:\n",
        "        pass  # pula se não estiverem disponíveis\n",
        "\n",
        "    return metadata\n"
      ],
      "metadata": {
        "id": "gm4aQowi5hMi"
      },
      "execution_count": 48,
      "outputs": []
    },
    {
      "cell_type": "markdown",
      "source": [
        "- Chama a função criada.\n",
        "* Obs: não esqueça de fazer upload de um documento word no Colab\n"
      ],
      "metadata": {
        "id": "5Q0mdazM5jY5"
      }
    },
    {
      "cell_type": "code",
      "source": [
        "docx_path = '6. FICHA DE ORIENTAÇÃO TCC_UNIFATEC.docx'\n",
        "metadata = extract_metadata(docx_path)\n",
        "pprint(metadata)"
      ],
      "metadata": {
        "colab": {
          "base_uri": "https://localhost:8080/"
        },
        "id": "yOOLEqgw5k7a",
        "outputId": "7c9953a8-5f59-4289-c054-12171dd05dbb"
      },
      "execution_count": 50,
      "outputs": [
        {
          "output_type": "stream",
          "name": "stdout",
          "text": [
            "{'_element': <CT_CoreProperties '<cp:coreProperties>' at 0x7f98ca5ce520>,\n",
            " 'author': 'DEESG',\n",
            " 'category': '',\n",
            " 'comments': '',\n",
            " 'content_status': '',\n",
            " 'created': '2018-05-28 12:14:00',\n",
            " 'identifier': '',\n",
            " 'keywords': '',\n",
            " 'language': '',\n",
            " 'last_modified_by': 'Gihad Abdalla El Khouri',\n",
            " 'last_printed': '2017-02-07 01:00:00',\n",
            " 'modified': '2024-03-05 19:34:00',\n",
            " 'revision': 96,\n",
            " 'subject': '',\n",
            " 'title': '',\n",
            " 'version': ''}\n"
          ]
        }
      ]
    },
    {
      "cell_type": "markdown",
      "source": [
        "R: METADATA\n",
        "\n",
        "\n",
        "```\n",
        " {'_element': <CT_CoreProperties '<cp:coreProperties>' at 0x7f98ca5ce520>,\n",
        " 'author': 'DEESG',\n",
        " 'category': '',\n",
        " 'comments': '',\n",
        " 'content_status': '',\n",
        " 'created': '2018-05-28 12:14:00',\n",
        " 'identifier': '',\n",
        " 'keywords': '',\n",
        " 'language': '',\n",
        " 'last_modified_by': 'Gihad Abdalla El Khouri',\n",
        " 'last_printed': '2017-02-07 01:00:00',\n",
        " 'modified': '2024-03-05 19:34:00',\n",
        " 'revision': 96,\n",
        " 'subject': '',\n",
        " 'title': '',\n",
        " 'version': ''}\n",
        "```\n",
        "\n"
      ],
      "metadata": {
        "id": "XwNj4JB3_-5T"
      }
    },
    {
      "cell_type": "markdown",
      "source": [
        "# **ETAPA6**\n",
        "- Estenografia\n",
        "\n",
        "\n",
        "---\n",
        "\n",
        "\n",
        "\n",
        ">Estenografia é usado para esconder informações dentro de imagens, e na sua forma mais\n",
        "complexa pode também esconder outros arquivos (ou vírus) dentro de uma imagem. No\n",
        "caso do texto ele é convertido para binário e ‘escondido’ dentro da imagem, logo para ler\n",
        "a mensagem precisamos converter ela novamente para texto\n"
      ],
      "metadata": {
        "id": "mG-qPTf558Xp"
      }
    },
    {
      "cell_type": "markdown",
      "source": [
        "- Vamos começar fazendo a instalação e importação das bibliotecas"
      ],
      "metadata": {
        "id": "Em4IKhUq6Cg6"
      }
    },
    {
      "cell_type": "code",
      "source": [
        "!pip3 install opencv-python numpy"
      ],
      "metadata": {
        "colab": {
          "base_uri": "https://localhost:8080/"
        },
        "id": "yjnpiT-g56Pq",
        "outputId": "eedb081c-8ba7-4a06-91cb-72609d6efa36"
      },
      "execution_count": 51,
      "outputs": [
        {
          "output_type": "stream",
          "name": "stdout",
          "text": [
            "Requirement already satisfied: opencv-python in /usr/local/lib/python3.10/dist-packages (4.8.0.76)\n",
            "Requirement already satisfied: numpy in /usr/local/lib/python3.10/dist-packages (1.25.2)\n"
          ]
        }
      ]
    },
    {
      "cell_type": "code",
      "source": [
        "import cv2\n",
        "import numpy as np\n"
      ],
      "metadata": {
        "id": "BFnlzWoX6G4q"
      },
      "execution_count": 52,
      "outputs": []
    },
    {
      "cell_type": "markdown",
      "source": [
        "- Criamos uma função para converter os dados binário para texto e vice versa"
      ],
      "metadata": {
        "id": "maIIZvxM6JGa"
      }
    },
    {
      "cell_type": "code",
      "source": [
        "def to_bin(data):\n",
        "    \"\"\"Converta o formato dos dados\"\"\"\n",
        "    if isinstance(data, str):\n",
        "        return ''.join([format(ord(i), \"08b\") for i in data])\n",
        "    elif isinstance(data, bytes):\n",
        "        return ''.join([format(i, \"08b\") for i in data])\n",
        "    elif isinstance(data, np.ndarray):\n",
        "        return [format(i, \"08b\") for i in data]\n",
        "    elif isinstance(data, int) or isinstance(data, np.uint8):\n",
        "        return format(data, \"08b\")\n",
        "    else:\n",
        "        raise TypeError(\"Tipo não suportado.\")\n"
      ],
      "metadata": {
        "id": "cG2f9WBH6Ihp"
      },
      "execution_count": 53,
      "outputs": []
    },
    {
      "cell_type": "markdown",
      "source": [
        "- Crie a função de esconder os dados\n"
      ],
      "metadata": {
        "id": "pfuJjG_Y6UHt"
      }
    },
    {
      "cell_type": "code",
      "source": [
        "def encode(image_name, secret_data):\n",
        "    # faz a leitura da imagem\n",
        "    image = cv2.imread(image_name)\n",
        "    # n. máximo de bits que pode ser 'escondido'\n",
        "    n_bytes = image.shape[0] * image.shape[1] * 3 // 8\n",
        "    print(\"[*] Número máximo de bytes que pode ser escondido:\", n_bytes)\n",
        "    if len(secret_data) > n_bytes:\n",
        "        raise ValueError(\"[!] Bytes insuficientes, adicione uma imagem maior ou menos dados.\")\n",
        "    print(\"[*] Enconding...\")\n",
        "    # add uma condição de parada\n",
        "    secret_data += \"=====\"\n",
        "    data_index = 0\n",
        "    # converte os dados para binário\n",
        "    binary_secret_data = to_bin(secret_data)\n",
        "    # tamanho dos dados escondidos\n",
        "    data_len = len(binary_secret_data)\n",
        "    for row in image:\n",
        "        for pixel in row:\n",
        "            # converte os RGB da imagem para o formato binário\n",
        "            r, g, b = to_bin(pixel)\n",
        "            # modifica os bits menos significantes para esconder os dados\n",
        "            if data_index < data_len:\n",
        "                # bit de pixel vermelho menos significativo\n",
        "                pixel[0] = int(r[:-1] + binary_secret_data[data_index], 2)\n",
        "                data_index += 1\n",
        "            if data_index < data_len:\n",
        "                # bit de pixel verde menos significativo\n",
        "                pixel[1] = int(g[:-1] + binary_secret_data[data_index], 2)\n",
        "                data_index += 1\n",
        "            if data_index < data_len:\n",
        "                # bit de pixel azul menos significativo\n",
        "                pixel[2] = int(b[:-1] + binary_secret_data[data_index], 2)\n",
        "                data_index += 1\n",
        "            # quando os dados forem escondidos encerra o loop\n",
        "            if data_index >= data_len:\n",
        "                break\n",
        "    return image\n"
      ],
      "metadata": {
        "id": "li36gLQF6Tjo"
      },
      "execution_count": 54,
      "outputs": []
    },
    {
      "cell_type": "markdown",
      "source": [
        "- Cria a função de descriptografar\n"
      ],
      "metadata": {
        "id": "A5DznJOQ6b9U"
      }
    },
    {
      "cell_type": "code",
      "source": [
        "def decode(image_name):\n",
        "    print(\"[+] Decoding...\")\n",
        "    # le a imagem\n",
        "    image = cv2.imread(image_name)\n",
        "    binary_data = \"\"\n",
        "    for row in image:\n",
        "        for pixel in row:\n",
        "            r, g, b = to_bin(pixel)\n",
        "            binary_data += r[-1]\n",
        "            binary_data += g[-1]\n",
        "            binary_data += b[-1]\n",
        "            # separa em 8-bits\n",
        "    all_bytes = [binary_data[i: i + 8] for i in range(0, len(binary_data), 8)]\n",
        "    # converte os bits para texto\n",
        "    decoded_data = \"\"\n",
        "    for byte in all_bytes:\n",
        "        decoded_data += chr(int(byte, 2))\n",
        "        if decoded_data[-5:] == \"=====\":\n",
        "            break\n",
        "    return decoded_data[:-5]"
      ],
      "metadata": {
        "id": "Y7uLFuLc6bb6"
      },
      "execution_count": 55,
      "outputs": []
    },
    {
      "cell_type": "markdown",
      "source": [
        "- Chama as funções criadas acima"
      ],
      "metadata": {
        "id": "JTsSIz2s6hEZ"
      }
    },
    {
      "cell_type": "code",
      "source": [
        "if __name__ == \"__main__\":\n",
        "  input_image = \"ESTENOGRAFIATESTE.png\"\n",
        "  output_image = \"ESTENOGRAFIATESTE_CODIFICADA.PNG\"\n",
        "  secret_data = \"TESTETESTETESTETESTETESTETESTETESTETESTETESTETESTETESTETESTETESTETESTETESTETESTETESTETESTETESTETESTETESTETESTETESTETESTETESTETESTETESTETESTETESTETESTETESTETESTETESTETESTETESTETESTETTESTETESTETESTETESTETESTETESTETESTETESTETESTETESTETESTETESTETESTETESTETESTETESTETESTETESTETESTETESTETESTETESTETESTETESTETESTETESTETESTETESTETESTETESTETESTETESTETESTETESTETESTETESTETESTETESTETESTETESTETESTETESTETESTETESTETESTETESTETESTETESTETESTETESTETESTETESTETESTETESTETESTETESTETESTETESTETESTETESTETESTETESTETESTETESTETESTETESTETESTETESTEESTETESTETESTETESTETESTETESTETESTETESTETESTETESTETESTETESTETESTETESTETESTETESTETESTETESTETESTETESTETESTETESTETESTETESTETESTETESTETESTETESTETESTETESTETESTETESTETESTETESTETESTETESTETESTETESTETESTETESTETESTETESTETESTETESTETESTETESTETESTETESTETESTETESTETTESTETESTETESTETESTETESTETESTETESTETESTETESTETESTETESTETESTETESTETESTETESTETESTETESTETESTETESTETESTETESTETESTETESTETESTETESTETESTETESTETESTETESTETESTETESTETESTETESTETESTETESTETESTETESTETESTETESTETESTETESTETESTETESTETESTETESTETESTETESTETESTETESTETESTETESTETESTETESTETESTETESTETESTETESTETESTETESTETESTETESTETESTETESTETESTETESTETESTETESTETESTEESTETESTETESTETESTETESTETESTETESTETESTETESTETESTETESTETESTETESTETESTETESTETESTETESTETESTETESTETESTETESTETESTETESTETESTETESTETESTETESTETESTETESTETESTETESTETESTETESTETESTETESTETESTETESTETESTETESTETESTETESTETESTETESTETESTETESTETESTETESTETESTETESTETESTETTESTETESTETESTETESTETESTETESTETESTETESTETESTETESTETESTETESTETESTETESTETESTETESTETESTETESTETESTETESTETESTETESTETESTETESTETESTETESTETESTETESTETESTETESTETESTETESTETESTETESTETESTETESTETESTETESTETESTETESTETESTETESTETESTETESTETESTETESTETESTETESTETESTETESTETESTETESTETESTETESTETESTETESTETESTETESTETESTETESTETESTETESTETESTETESTETESTETESTETESTETESTEESTETESTETESTETESTETESTETESTETESTETESTETESTETESTETESTETESTETESTETESTETESTETESTETESTETESTETESTETESTETESTETESTETESTETESTETESTETESTETESTETESTETESTETESTETESTETESTETESTETESTETESTETESTETESTETESTETESTETESTETESTETESTETESTETESTETESTETESTETESTETESTETESTETESTETTESTETESTETESTETESTETESTETESTETESTETESTETESTETESTETESTETESTETESTETESTETESTETESTETESTETESTETESTETESTETESTETESTETESTETESTETESTETESTETESTETESTETESTETESTETESTETESTETESTETESTETESTETESTETESTETESTETESTETESTETESTETESTETESTETESTETESTETESTETESTETESTETESTETESTETESTETESTETESTETESTETESTETESTETESTETESTETESTETESTETESTETESTETESTETESTETESTETESTETESTETESTEESTETESTETESTETESTETESTETESTETESTETESTETESTETESTETESTETESTETESTETESTETESTETESTETESTETESTETESTETESTETESTETESTETESTETESTETESTETESTETESTETESTETESTETESTETESTETESTETESTETESTETESTETESTETESTETESTETESTETESTETESTETESTETESTETESTETESTETESTETESTETESTETESTETESTETTESTETESTETESTETESTETESTETESTETESTETESTETESTETESTETESTETESTETESTETESTETESTETESTETESTETESTETESTETESTETESTETESTETESTETESTETESTETESTETESTETESTETESTETESTETESTETESTETESTETESTETESTETESTETESTETESTETESTETESTETESTETESTETESTETESTETESTETESTETESTETESTETESTETESTETESTETESTETESTETESTETESTETESTETESTETESTETESTETESTETESTETESTETESTETESTETESTETESTETESTETESTEESTETESTETESTETESTETESTETESTETESTETESTETESTETESTETESTETESTETESTETESTETESTETESTETESTETESTETESTETESTETESTETESTETESTETESTETESTETESTETESTETESTETESTETESTETESTETESTETESTETESTETESTETESTETESTETESTETESTETESTETESTETESTETESTETESTETESTETESTETESTETESTETESTETESTETTESTETESTETESTETESTETESTETESTETESTETESTETESTETESTETESTETESTETESTETESTETESTETESTETESTETESTETESTETESTETESTETESTETESTETESTETESTETESTETESTETESTETESTETESTETESTETESTETESTETESTETESTETESTETESTETESTETESTETESTETESTETESTETESTETESTETESTETESTETESTETESTETESTETESTETESTETESTETESTETESTETESTETESTETESTETESTETESTETESTETESTETESTETESTETESTETESTETESTETESTETESTEESTETESTETESTETESTETESTETESTETESTETESTETESTETESTETESTETESTETESTETESTETESTETESTETESTETESTETESTETESTETESTETESTETESTETESTETESTETESTETESTETESTETESTETESTETESTETESTETESTETESTETESTETESTETESTETESTETESTETESTETESTETESTETESTETESTETESTETESTETESTETESTETESTETESTETTESTETESTETESTETESTETESTETESTETESTETESTETESTETESTETESTETESTETESTETESTETESTETESTETESTETESTETESTETESTETESTETESTETESTETESTETESTETESTETESTETESTETESTETESTETESTETESTETESTETESTETESTETESTETESTETESTETESTETESTETESTETESTETESTETESTETESTETESTETESTETESTETESTETESTETESTETESTETESTETESTETESTETESTETESTETESTETESTETESTETESTETESTETESTETESTETESTETESTETESTETESTEESTETESTETESTETESTETESTETESTETESTETESTETESTETESTETESTETESTETESTETESTETESTETESTETESTETESTETESTETESTETESTETESTETESTETESTETESTETESTETESTETESTETESTETESTETESTETESTETESTETESTETESTETESTETESTETESTETESTETESTETESTETESTETESTETESTETESTETESTETESTETESTETESTETESTETTESTETESTETESTETESTETESTETESTETESTETESTETESTETESTETESTETESTETESTETESTETESTETESTETESTETESTETESTETESTETESTETESTETESTETESTETESTETESTETESTETESTETESTETESTETESTETESTETESTETESTETESTETESTETESTETESTETESTETESTETESTETESTETESTETESTETESTETESTETESTETESTETESTETESTETESTETESTETESTETESTETESTETESTETESTETESTETESTETESTETESTETESTETESTETESTETESTETESTETESTETESTEESTETESTETESTETESTETESTETESTETESTETESTETESTETESTETESTETESTETESTETESTETESTETESTETESTETESTETESTETESTETESTETESTETESTETESTETESTETESTETESTETESTETESTETESTETESTETESTETESTETESTETESTETESTETESTETESTETESTETESTETESTETESTETESTETESTETESTETESTETESTETESTETESTETESTETTESTETESTETESTETESTETESTETESTETESTETESTETESTETESTETESTETESTETESTETESTETESTETESTETESTETESTETESTETESTETESTETESTETESTETESTETESTETESTETESTETESTETESTETESTETESTETESTETESTETESTETESTETESTETESTETESTETESTETESTETESTETESTETESTETESTETESTETESTETESTETESTETESTETESTETESTETESTETESTETESTETESTETESTETESTETESTETESTETESTETESTETESTETESTETESTETESTETESTETESTETESTEESTETESTETESTETESTETESTETESTETESTETESTETESTETESTETESTETESTETESTETESTETESTETESTETESTETESTETESTETESTETESTETESTETESTETESTETESTETESTETESTETESTETESTETESTETESTETESTETESTETESTETESTETESTETESTETESTETESTETESTETESTETESTETESTETESTETESTETESTETESTETESTETESTETESTETTESTETESTETESTETESTETESTETESTETESTETESTETESTETESTETESTETESTETESTETESTETESTETESTETESTETESTETESTETESTETESTETESTETESTETESTETESTETESTETESTETESTETESTETESTETESTETESTETESTETESTETESTETESTETESTETESTETESTETESTETESTETESTETESTETESTETESTETESTETESTETESTETESTETESTETESTETESTETESTETESTETESTETESTETESTETESTETESTETESTETESTETESTETESTETESTETESTETESTETESTETESTEESTETESTETESTETESTETESTETESTETESTETESTETESTETESTETESTETESTETESTETESTETESTETESTETESTETESTETESTETESTETESTETESTETESTETESTETESTETESTETESTETESTETESTETESTETESTETESTETESTETESTETESTETESTETESTETESTETESTETESTETESTETESTETESTETESTETESTETESTETESTETESTETESTETESTETTESTETESTETESTETESTETESTETESTETESTETESTETESTETESTETESTETESTETESTETESTETESTETESTETESTETESTETESTETESTETESTETESTETESTETESTETESTETESTETESTETESTETESTETESTETESTETESTETESTETESTETESTETESTETESTETESTETESTETESTETESTETESTETESTETESTETESTETESTETESTETESTETESTETESTETESTETESTETESTETESTETESTETESTETESTETESTETESTETESTETESTETESTETESTETESTETESTETESTETESTETESTEESTETESTETESTETESTETESTETESTETESTETESTETESTETESTETESTETESTETESTETESTETESTETESTETESTETESTETESTETESTETESTETESTETESTETESTETESTETESTETESTETESTETESTETESTETESTETESTETESTETESTETESTETESTETESTETESTETESTETESTETESTETESTETESTETESTETESTETESTETESTETESTETESTETESTETTESTETESTETESTETESTETESTETESTETESTETESTETESTETESTETESTETESTETESTETESTETESTETESTETESTETESTETESTETESTETESTETESTETESTETESTETESTETESTETESTETESTETESTETESTETESTETESTETESTETESTETESTETESTETESTETESTETESTETESTETESTETESTETESTETESTETESTETESTETESTETESTETESTETESTETESTETESTETESTETESTETESTETESTETESTETESTETESTETESTETESTETESTETESTETESTETESTETESTETESTETESTEESTETESTETESTETESTETESTETESTETESTETESTETESTETESTETESTETESTETESTETESTETESTETESTETESTETESTETESTETESTETESTETESTETESTETESTETESTETESTETESTETESTETESTETESTETESTETESTETESTETESTETESTETESTETESTETESTETESTETESTETESTETESTETESTETESTETESTETESTETESTETESTETESTETESTETTESTETESTETESTETESTETESTETESTETESTETESTETESTETESTETESTETESTETESTETESTETESTETESTETESTETESTETESTETESTETESTETESTETESTETESTETESTETESTETESTETESTETESTETESTETESTETESTETESTETESTETESTETESTETESTETESTETESTETESTETESTETESTETESTETESTETESTETESTETESTETESTETESTETESTETESTETESTETESTETESTETESTETESTETESTETESTETESTETESTETESTETESTETESTETESTETESTETESTETESTETESTEESTETESTETESTETESTETESTETESTETESTETESTETESTETESTETESTETESTETESTETESTETESTETESTETESTETESTETESTETESTETESTETESTETESTETESTETESTETESTETESTETESTETESTETESTETESTETESTETESTETESTETESTETESTETESTETESTETESTETESTETESTETESTETESTETESTETESTETESTETESTETESTETESTETESTETTESTETESTETESTETESTETESTETESTETESTETESTETESTETESTETESTETESTETESTETESTETESTETESTETESTETESTETESTETESTETESTETESTETESTETESTETESTETESTETESTETESTETESTETESTETESTETESTETESTETESTETESTETESTETESTETESTETESTETESTETESTETESTETESTETESTETESTETESTETESTETESTETESTETESTETESTETESTETESTETESTETESTETESTETESTETESTETESTETESTETESTETESTETESTETESTETESTETESTETESTETESTEESTETESTETESTETESTETESTETESTETESTETESTETESTETESTETESTETESTETESTETESTETESTETESTETESTETESTETESTETESTETESTETESTETESTETESTETESTETESTETESTETESTETESTETESTETESTETESTETESTETESTETESTETESTETESTETESTETESTETESTETESTETESTETESTETESTETESTETESTETESTETESTETESTETESTETTESTETESTETESTETESTETESTETESTETESTETESTETESTETESTETESTETESTETESTETESTETESTETESTETESTETESTETESTETESTETESTETESTETESTETESTETESTETESTETESTETESTETESTETESTETESTETESTETESTETESTETESTETESTETESTETESTETESTETESTETESTETESTETESTETESTETESTETESTETESTETESTETESTETESTETESTETESTETESTETESTETESTETESTETESTETESTETESTETESTETESTETESTETESTETESTETESTETESTETESTETESTEESTETESTETESTETESTETESTETESTETESTETESTETESTETESTETESTETESTETESTETESTETESTETESTETESTETESTETESTETESTETESTETESTETESTETESTETESTETESTETESTETESTETESTETESTETESTETESTETESTETESTETESTETESTETESTETESTETESTETESTETESTETESTETESTETESTETESTETESTETESTETESTETESTETESTETTESTETESTETESTETESTETESTETESTETESTETESTETESTETESTETESTETESTETESTETESTETESTETESTETESTETESTETESTETESTETESTETESTETESTETESTETESTETESTETESTETESTETESTETESTETESTETESTETESTETESTETESTETESTETESTETESTETESTETESTETESTETESTETESTETESTETESTETESTETESTETESTETESTETESTETESTETESTETESTETESTETESTETESTETESTETESTETESTETESTETESTETESTETESTETESTETESTETESTETESTETESTEESTETESTETESTETESTETESTETESTETESTETESTETESTETESTETESTETESTETESTETESTETESTETESTETESTETESTETESTETESTETESTETESTETESTETESTETESTETESTETESTETESTETESTETESTETESTETESTETESTETESTETESTETESTETESTETESTETESTETESTETESTETESTETESTETESTETESTETESTETESTETESTETESTETESTETTESTETESTETESTETESTETESTETESTETESTETESTETESTETESTETESTETESTETESTETESTETESTETESTETESTETESTETESTETESTETESTETESTETESTETESTETESTETESTETESTETESTETESTETESTETESTETESTETESTETESTETESTETESTETESTETESTETESTETESTETESTETESTETESTETESTETESTETESTETESTETESTETESTETESTETESTETESTETESTETESTETESTETESTETESTETESTETESTETESTETESTETESTETESTETESTETESTETESTETESTETESTEESTETESTETESTETESTETESTETESTETESTET TESTETESTETESTETTESTETESTETESTETTESTETESTETESTETTESTETESTETESTETTESTETESTETESTETTESTETESTETESTETTESTETESTETESTETTESTETESTETESTETTESTETESTETESTETTESTETESTETESTETTESTETESTETESTETTESTETESTETESTETTESTETESTETESTETTESTETESTETESTETTESTETESTETESTETTESTETESTETESTETTESTETESTETESTETTESTETESTETESTETTESTETESTETESTETTESTETESTETESTETTESTETESTETESTETTESTETESTETESTETTESTETESTETESTETTESTETESTETESTETTESTETESTETESTETTESTETESTETESTETTESTETESTETESTETTESTETESTETESTETTESTETESTETESTETTESTETESTETESTETTESTETESTETESTETTESTETESTETESTETTESTETESTETESTETTESTETESTETESTETTESTETESTETESTETTESTETESTETESTETTESTETESTETESTETTESTETESTETESTETTESTETESTETESTETTESTETESTETESTETTESTETESTETESTETTESTETESTETESTETTESTETESTETESTETTESTETESTETESTETTESTETESTETESTETTESTETESTETESTETTESTETESTETESTETTESTETESTETESTETTESTETESTETESTETTESTETESTETESTETTESTETESTETESTETTESTETESTETESTETTESTETESTETESTETTESTETESTETESTETTESTETESTETESTETTESTETESTETESTETTESTETESTETESTETTESTETESTETESTETTESTETESTETESTETTESTETESTETESTETTESTETESTETESTETTESTETESTETESTETTESTETESTETESTETTESTETESTETESTETTESTETESTETESTETTESTETESTETESTETTESTETESTETESTETTESTETESTETESTETTESTETESTETESTETTESTETESTETESTETTESTETESTETESTETTESTETESTETESTETTESTETESTETESTETTESTETESTETESTETTESTETESTETESTETTESTETESTETESTETTESTETESTETESTETTESTETESTETESTETTESTETESTETESTETTESTETESTETESTETTESTETESTETESTETTESTETESTETESTETTESTETESTETESTETTESTETESTETESTETTESTETESTETESTETTESTETESTETESTETTESTETESTETESTETTESTETESTETESTETTESTETESTETESTETTESTETESTETESTETTESTETESTETESTETTESTETESTETESTETTESTETESTETESTETTESTETESTETESTETTESTETESTETESTETTESTETESTETESTETTESTETESTETESTETTESTETESTETESTETTESTETESTETESTETTESTETESTETESTETTESTETESTETESTETTESTETESTETESTETTESTETESTETESTETTESTETESTETESTETTESTETESTETESTETTESTETESTETESTETTESTETESTETESTETTESTETESTETESTETTESTETESTETESTETTESTETESTETESTETTESTETESTETESTETTESTETESTETESTETTESTETESTETESTETTESTETESTETESTETTESTETESTETESTETTESTETESTETESTETTESTETESTETESTETTESTETESTETESTETTESTETESTETESTETTESTETESTETESTETTESTETESTETESTETTESTETESTETESTETTESTETESTETESTETTESTETESTETESTETTESTETESTETESTETTESTETESTETESTETTESTETESTETESTETTESTETESTETESTETTESTETESTETESTETTESTETESTETESTETTESTETESTETESTETTESTETESTETESTETTESTETESTETESTETTESTETESTETESTETTESTETESTETESTETTESTETESTETESTETTESTETESTETESTETTESTETESTETESTETTESTETESTETESTETTESTETESTETESTETTESTETESTETESTETTESTETESTETESTETTESTETESTETESTETTESTETESTETESTETESTETESTETESTETTESTETESTETESTETTESTETESTETESTETTESTETESTETESTETTESTETESTETESTETTESTETESTETESTETTESTETESTETESTETTESTETESTETESTETTESTETESTETESTETTESTETESTETESTETTESTETESTETESTETTESTETESTETESTETTESTETESTETESTETTESTETESTETESTETTESTETESTETESTETTESTETESTETESTETTESTETESTETESTETTESTETESTETESTETTESTETESTETESTETTESTETESTETESTETTESTETESTETESTETTESTETESTETESTETTESTETESTETESTETTESTETESTETESTETTESTETESTETESTETTESTETESTETESTETTESTETESTETESTETTESTETESTETESTETTESTETESTETESTETTESTETESTETESTETTESTETESTETESTETTESTETESTETESTETTESTETESTETESTETTESTETESTETESTETTESTETESTETESTETTESTETESTETESTETTESTETESTETESTETTESTETESTETESTETTESTETESTETESTETTESTETESTETESTETTESTETESTETESTETTESTETESTETESTETTESTETESTETESTETTESTETESTETESTETTESTETESTETESTETTESTETESTETESTETTESTETESTETESTETTESTETESTETESTETTESTETESTETESTETTESTETESTETESTETTESTETESTETESTETTESTETESTETESTETTESTETESTETESTETTESTETESTETESTETTESTETESTETESTETTESTETESTETESTETTESTETESTETESTETTESTETESTETESTETTESTETESTETESTETTESTETESTETESTETTESTETESTETESTETTESTETESTETESTETTESTETESTETESTETTESTETESTETESTETTESTETESTETESTETTESTETESTETESTETTESTETESTETESTETTESTETESTETESTETTESTETESTETESTETTESTETESTETESTETTESTETESTETESTETTESTETESTETESTETTESTETESTETESTETTESTETESTETESTETTESTETESTETESTETTESTETESTETESTETTESTETESTETESTETTESTETESTETESTETTESTETESTETESTETTESTETESTETESTETTESTETESTETESTETTESTETESTETESTETTESTETESTETESTETTESTETESTETESTETTESTETESTETESTETTESTETESTETESTETTESTETESTETESTETTESTETESTETESTETTESTETESTETESTETTESTETESTETESTETTESTETESTETESTETTESTETESTETESTETTESTETESTETESTETTESTETESTETESTETTESTETESTETESTETTESTETESTETESTETTESTETESTETESTETTESTETESTETESTETTESTETESTETESTETTESTETESTETESTETTESTETESTETESTETTESTETESTETESTETTESTETESTETESTETTESTETESTETESTETTESTETESTETESTETTESTETESTETESTETTESTETESTETESTETTESTETESTETESTETTESTETESTETESTETTESTETESTETESTETTESTETESTETESTETTESTETESTETESTETTESTETESTETESTETTESTETESTETESTETTESTETESTETESTETTESTETESTETESTETTESTETESTETESTETTESTETESTETESTETTESTETESTETESTETTESTETESTETESTETTESTETESTETESTETTESTETESTETESTETTESTETESTETESTETTESTETESTETESTETTESTETESTETESTETTESTETESTETESTETTESTETESTETESTETTESTETESTETESTETTESTETESTETESTETTESTETESTETESTETTESTETESTETESTETTESTETESTETESTETTESTETESTETESTETTESTETESTETESTETTESTETESTETESTETTESTETESTETESTETTESTETESTETESTETTESTETESTETESTETTESTETESTETESTETTESTETESTETESTETTESTETESTETESTETTESTETESTETESTETTESTETESTETESTETTESTETESTETESTETESTETESTETESTETTESTETESTETESTETTESTETESTETESTETTESTETESTETESTETTESTETESTETESTETTESTETESTETESTETTESTETESTETESTETTESTETESTETESTETTESTETESTETESTETTESTETESTETESTETTESTETESTETESTETTESTETESTETESTETTESTETESTETESTETTESTETESTETESTETTESTETESTETESTETTESTETESTETESTETTESTETESTETESTETTESTETESTETESTETTESTETESTETESTETTESTETESTETESTETTESTETESTETESTETTESTETESTETESTETTESTETESTETESTETTESTETESTETESTETTESTETESTETESTETTESTETESTETESTETTESTETESTETESTETTESTETESTETESTETTESTETESTETESTETTESTETESTETESTETTESTETESTETESTETTESTETESTETESTETTESTETESTETESTETTESTETESTETESTETTESTETESTETESTETTESTETESTETESTETTESTETESTETESTETTESTETESTETESTETTESTETESTETESTETTESTETESTETESTETTESTETESTETESTETTESTETESTETESTETTESTETESTETESTETTESTETESTETESTETTESTETESTETESTETTESTETESTETESTETTESTETESTETESTETTESTETESTETESTETTESTETESTETESTETTESTETESTETESTETTESTETESTETESTETTESTETESTETESTETTESTETESTETESTETTESTETESTETESTETTESTETESTETESTETTESTETESTETESTETTESTETESTETESTETTESTETESTETESTETTESTETESTETESTETTESTETESTETESTETTESTETESTETESTETTESTETESTETESTETTESTETESTETESTETTESTETESTETESTETTESTETESTETESTETTESTETESTETESTETTESTETESTETESTETTESTETESTETESTETTESTETESTETESTETTESTETESTETESTETTESTETESTETESTETTESTETESTETESTETTESTETESTETESTETTESTETESTETESTETTESTETESTETESTETTESTETESTETESTETTESTETESTETESTETTESTETESTETESTETTESTETESTETESTETTESTETESTETESTETTESTETESTETESTETTESTETESTETESTETTESTETESTETESTETTESTETESTETESTETTESTETESTETESTETTESTETESTETESTETTESTETESTETESTETTESTETESTETESTETTESTETESTETESTETTESTETESTETESTETTESTETESTETESTETTESTETESTETESTETTESTETESTETESTETTESTETESTETESTETTESTETESTETESTETTESTETESTETESTETTESTETESTETESTETTESTETESTETESTETTESTETESTETESTETTESTETESTETESTETTESTETESTETESTETTESTETESTETESTETTESTETESTETESTETTESTETESTETESTETTESTETESTETESTETTESTETESTETESTETTESTETESTETESTETTESTETESTETESTETTESTETESTETESTETTESTETESTETESTETTESTETESTETESTETTESTETESTETESTETTESTETESTETESTETTESTETESTETESTETTESTETESTETESTETTESTETESTETESTETTESTETESTETESTETTESTETESTETESTETTESTETESTETESTETTESTETESTETESTETTESTETESTETESTETTESTETESTETESTETTESTETESTETESTETTESTETESTETESTETTESTETESTETESTETTESTETESTETESTETTESTETESTETESTETTESTETESTETESTETTESTETESTETESTETTESTETESTETESTETTESTETESTETESTETTESTETESTETESTETTESTETESTETESTETTESTETESTETESTETTESTETESTETESTETTESTETESTETESTETTESTETESTETESTETTESTETESTETESTETTESTETESTETESTETTESTETESTETESTETTESTETESTETESTETTESTETESTETESTETTESTETESTETESTETTESTETESTETESTETESTETESTETESTETTESTETESTETESTETTESTETESTETESTETTESTETESTETESTETTESTETESTETESTETTESTETESTETESTETTESTETESTETESTETTESTETESTETESTETTESTETESTETESTETTESTETESTETESTETTESTETESTETESTETTESTETESTETESTETTESTETESTETESTETTESTETESTETESTETTESTETESTETESTETTESTETESTETESTETTESTETESTETESTETTESTETESTETESTETTESTETESTETESTETTESTETESTETESTETTESTETESTETESTETTESTETESTETESTETTESTETESTETESTETTESTETESTETESTETTESTETESTETESTETTESTETESTETESTETTESTETESTETESTETTESTETESTETESTETTESTETESTETESTETTESTETESTETESTETTESTETESTETESTETTESTETESTETESTETTESTETESTETESTETTESTETESTETESTETTESTETESTETESTETTESTETESTETESTETTESTETESTETESTETTESTETESTETESTETTESTETESTETESTETTESTETESTETESTETTESTETESTETESTETTESTETESTETESTETTESTETESTETESTETTESTETESTETESTETTESTETESTETESTETTESTETESTETESTETTESTETESTETESTETTESTETESTETESTETTESTETESTETESTETTESTETESTETESTETTESTETESTETESTETTESTETESTETESTETTESTETESTETESTETTESTETESTETESTETTESTETESTETESTETTESTETESTETESTETTESTETESTETESTETTESTETESTETESTETTESTETESTETESTETTESTETESTETESTETTESTETESTETESTETTESTETESTETESTETTESTETESTETESTETTESTETESTETESTETTESTETESTETESTETTESTETESTETESTETTESTETESTETESTETTESTETESTETESTETTESTETESTETESTETTESTETESTETESTETTESTETESTETESTETTESTETESTETESTETTESTETESTETESTETTESTETESTETESTETTESTETESTETESTETTESTETESTETESTETTESTETESTETESTETTESTETESTETESTETTESTETESTETESTETTESTETESTETESTETTESTETESTETESTETTESTETESTETESTETTESTETESTETESTETTESTETESTETESTETTESTETESTETESTETTESTETESTETESTETTESTETESTETESTETTESTETESTETESTETTESTETESTETESTETTESTETESTETESTETTESTETESTETESTETTESTETESTETESTETTESTETESTETESTETTESTETESTETESTETTESTETESTETESTETTESTETESTETESTETTESTETESTETESTETTESTETESTETESTETTESTETESTETESTETTESTETESTETESTETTESTETESTETESTETTESTETESTETESTETTESTETESTETESTETTESTETESTETESTETTESTETESTETESTETTESTETESTETESTETTESTETESTETESTETTESTETESTETESTETTESTETESTETESTETTESTETESTETESTETTESTETESTETESTETTESTETESTETESTETTESTETESTETESTETTESTETESTETESTETTESTETESTETESTETTESTETESTETESTETTESTETESTETESTETTESTETESTETESTETTESTETESTETESTETTESTETESTETESTETTESTETESTETESTETTESTETESTETESTETTESTETESTETESTETTESTETESTETESTETTESTETESTETESTETTESTETESTETESTETTESTETESTETESTETTESTETESTETESTETTESTETESTETESTETTESTETESTETESTETTESTETESTETESTETTESTETESTETESTETTESTETESTETESTETTESTETESTETESTETTESTETESTETESTETTESTETESTETESTETTESTETESTETESTETTESTETESTETESTETTESTETESTETESTETTESTETESTETESTETTESTETESTETESTETTESTETESTETESTETTESTETESTETESTETTESTETESTETESTET\"\n",
        "  # encoding\n",
        "  encoded_image = encode(image_name=input_image, secret_data=secret_data)\n",
        "  # salva a imagem com estenografia\n",
        "  cv2.imwrite(output_image, encoded_image)\n",
        "  # faz a descriptografia da mensagem super secreta\n",
        "  decoded_data = decode(output_image)\n",
        "  print(\"[+] Mensagem descoberta:\", decoded_data)"
      ],
      "metadata": {
        "colab": {
          "base_uri": "https://localhost:8080/"
        },
        "id": "UMOQdmsm6jsa",
        "outputId": "86badeda-e4a6-4de6-9960-5744a99b2f92"
      },
      "execution_count": 63,
      "outputs": [
        {
          "output_type": "stream",
          "name": "stdout",
          "text": [
            "[*] Número máximo de bytes que pode ser escondido: 39757\n",
            "[*] Enconding...\n",
            "[+] Decoding...\n",
            "[+] Mensagem descoberta: TESTETESTETESTETESTETESTETESTETESTETESTETESTETESTETESTETESTETESTETESTETESTETESTETESTETESTETESTETESTETESTETESTETESTETESTETESTETESTETESTETESTETESTETESTETESTETESTETESTETESTETESTETESTETTESTETESTETESTETESTETESTETESTETESTETESTETESTETESTETESTETESTETESTETESTETESTETESTETESTETESTETESTETESTETESTETESTETESTETESTETESTETESTETESTETESTETESTETESTETESTETESTETESTETESTETESTETESTETESTETESTETESTETESTETESTETESTETESTETESTETESTETESTETESTETESTETESTETESTETESTETESTETESTETESTETESTETESTETESTETESTETESTETESTETESTETESTETESTETESTETESTETESTETESTETESTEESTETESTETESTETESTETESTETESTETESTETESTETESTETESTETESTETESTETESTETESTETESTETESTETESTETESTETESTETESTETESTETESTETESTETESTETESTETESTETESTETESTETESTETESTETESTETESTETESTETESTETESTETESTETESTETESTETESTETESTETESTETESTETESTETESTETESTETESTETESTETESTETESTETESTETTESTETESTETESTETESTETESTETESTETESTETESTETESTETESTETESTETESTETESTETESTETESTETESTETESTETESTETESTETESTETESTETESTETESTETESTETESTETESTETESTETESTETESTETESTETESTETESTETESTETESTETESTETESTETESTETESTETESTETESTETESTETESTETESTETESTETESTETESTETESTETESTETESTETESTETESTETESTETESTETESTETESTETESTETESTETESTETESTETESTETESTETESTETESTETESTETESTETESTETESTETESTEESTETESTETESTETESTETESTETESTETESTETESTETESTETESTETESTETESTETESTETESTETESTETESTETESTETESTETESTETESTETESTETESTETESTETESTETESTETESTETESTETESTETESTETESTETESTETESTETESTETESTETESTETESTETESTETESTETESTETESTETESTETESTETESTETESTETESTETESTETESTETESTETESTETESTETTESTETESTETESTETESTETESTETESTETESTETESTETESTETESTETESTETESTETESTETESTETESTETESTETESTETESTETESTETESTETESTETESTETESTETESTETESTETESTETESTETESTETESTETESTETESTETESTETESTETESTETESTETESTETESTETESTETESTETESTETESTETESTETESTETESTETESTETESTETESTETESTETESTETESTETESTETESTETESTETESTETESTETESTETESTETESTETESTETESTETESTETESTETESTETESTETESTETESTETESTETESTEESTETESTETESTETESTETESTETESTETESTETESTETESTETESTETESTETESTETESTETESTETESTETESTETESTETESTETESTETESTETESTETESTETESTETESTETESTETESTETESTETESTETESTETESTETESTETESTETESTETESTETESTETESTETESTETESTETESTETESTETESTETESTETESTETESTETESTETESTETESTETESTETESTETESTETTESTETESTETESTETESTETESTETESTETESTETESTETESTETESTETESTETESTETESTETESTETESTETESTETESTETESTETESTETESTETESTETESTETESTETESTETESTETESTETESTETESTETESTETESTETESTETESTETESTETESTETESTETESTETESTETESTETESTETESTETESTETESTETESTETESTETESTETESTETESTETESTETESTETESTETESTETESTETESTETESTETESTETESTETESTETESTETESTETESTETESTETESTETESTETESTETESTETESTETESTETESTEESTETESTETESTETESTETESTETESTETESTETESTETESTETESTETESTETESTETESTETESTETESTETESTETESTETESTETESTETESTETESTETESTETESTETESTETESTETESTETESTETESTETESTETESTETESTETESTETESTETESTETESTETESTETESTETESTETESTETESTETESTETESTETESTETESTETESTETESTETESTETESTETESTETESTETTESTETESTETESTETESTETESTETESTETESTETESTETESTETESTETESTETESTETESTETESTETESTETESTETESTETESTETESTETESTETESTETESTETESTETESTETESTETESTETESTETESTETESTETESTETESTETESTETESTETESTETESTETESTETESTETESTETESTETESTETESTETESTETESTETESTETESTETESTETESTETESTETESTETESTETESTETESTETESTETESTETESTETESTETESTETESTETESTETESTETESTETESTETESTETESTETESTETESTETESTETESTEESTETESTETESTETESTETESTETESTETESTETESTETESTETESTETESTETESTETESTETESTETESTETESTETESTETESTETESTETESTETESTETESTETESTETESTETESTETESTETESTETESTETESTETESTETESTETESTETESTETESTETESTETESTETESTETESTETESTETESTETESTETESTETESTETESTETESTETESTETESTETESTETESTETESTETTESTETESTETESTETESTETESTETESTETESTETESTETESTETESTETESTETESTETESTETESTETESTETESTETESTETESTETESTETESTETESTETESTETESTETESTETESTETESTETESTETESTETESTETESTETESTETESTETESTETESTETESTETESTETESTETESTETESTETESTETESTETESTETESTETESTETESTETESTETESTETESTETESTETESTETESTETESTETESTETESTETESTETESTETESTETESTETESTETESTETESTETESTETESTETESTETESTETESTETESTETESTEESTETESTETESTETESTETESTETESTETESTETESTETESTETESTETESTETESTETESTETESTETESTETESTETESTETESTETESTETESTETESTETESTETESTETESTETESTETESTETESTETESTETESTETESTETESTETESTETESTETESTETESTETESTETESTETESTETESTETESTETESTETESTETESTETESTETESTETESTETESTETESTETESTETESTETTESTETESTETESTETESTETESTETESTETESTETESTETESTETESTETESTETESTETESTETESTETESTETESTETESTETESTETESTETESTETESTETESTETESTETESTETESTETESTETESTETESTETESTETESTETESTETESTETESTETESTETESTETESTETESTETESTETESTETESTETESTETESTETESTETESTETESTETESTETESTETESTETESTETESTETESTETESTETESTETESTETESTETESTETESTETESTETESTETESTETESTETESTETESTETESTETESTETESTETESTETESTEESTETESTETESTETESTETESTETESTETESTETESTETESTETESTETESTETESTETESTETESTETESTETESTETESTETESTETESTETESTETESTETESTETESTETESTETESTETESTETESTETESTETESTETESTETESTETESTETESTETESTETESTETESTETESTETESTETESTETESTETESTETESTETESTETESTETESTETESTETESTETESTETESTETESTETTESTETESTETESTETESTETESTETESTETESTETESTETESTETESTETESTETESTETESTETESTETESTETESTETESTETESTETESTETESTETESTETESTETESTETESTETESTETESTETESTETESTETESTETESTETESTETESTETESTETESTETESTETESTETESTETESTETESTETESTETESTETESTETESTETESTETESTETESTETESTETESTETESTETESTETESTETESTETESTETESTETESTETESTETESTETESTETESTETESTETESTETESTETESTETESTETESTETESTETESTETESTEESTETESTETESTETESTETESTETESTETESTETESTETESTETESTETESTETESTETESTETESTETESTETESTETESTETESTETESTETESTETESTETESTETESTETESTETESTETESTETESTETESTETESTETESTETESTETESTETESTETESTETESTETESTETESTETESTETESTETESTETESTETESTETESTETESTETESTETESTETESTETESTETESTETESTETTESTETESTETESTETESTETESTETESTETESTETESTETESTETESTETESTETESTETESTETESTETESTETESTETESTETESTETESTETESTETESTETESTETESTETESTETESTETESTETESTETESTETESTETESTETESTETESTETESTETESTETESTETESTETESTETESTETESTETESTETESTETESTETESTETESTETESTETESTETESTETESTETESTETESTETESTETESTETESTETESTETESTETESTETESTETESTETESTETESTETESTETESTETESTETESTETESTETESTETESTETESTEESTETESTETESTETESTETESTETESTETESTETESTETESTETESTETESTETESTETESTETESTETESTETESTETESTETESTETESTETESTETESTETESTETESTETESTETESTETESTETESTETESTETESTETESTETESTETESTETESTETESTETESTETESTETESTETESTETESTETESTETESTETESTETESTETESTETESTETESTETESTETESTETESTETESTETTESTETESTETESTETESTETESTETESTETESTETESTETESTETESTETESTETESTETESTETESTETESTETESTETESTETESTETESTETESTETESTETESTETESTETESTETESTETESTETESTETESTETESTETESTETESTETESTETESTETESTETESTETESTETESTETESTETESTETESTETESTETESTETESTETESTETESTETESTETESTETESTETESTETESTETESTETESTETESTETESTETESTETESTETESTETESTETESTETESTETESTETESTETESTETESTETESTETESTETESTETESTEESTETESTETESTETESTETESTETESTETESTETESTETESTETESTETESTETESTETESTETESTETESTETESTETESTETESTETESTETESTETESTETESTETESTETESTETESTETESTETESTETESTETESTETESTETESTETESTETESTETESTETESTETESTETESTETESTETESTETESTETESTETESTETESTETESTETESTETESTETESTETESTETESTETESTETTESTETESTETESTETESTETESTETESTETESTETESTETESTETESTETESTETESTETESTETESTETESTETESTETESTETESTETESTETESTETESTETESTETESTETESTETESTETESTETESTETESTETESTETESTETESTETESTETESTETESTETESTETESTETESTETESTETESTETESTETESTETESTETESTETESTETESTETESTETESTETESTETESTETESTETESTETESTETESTETESTETESTETESTETESTETESTETESTETESTETESTETESTETESTETESTETESTETESTETESTETESTEESTETESTETESTETESTETESTETESTETESTETESTETESTETESTETESTETESTETESTETESTETESTETESTETESTETESTETESTETESTETESTETESTETESTETESTETESTETESTETESTETESTETESTETESTETESTETESTETESTETESTETESTETESTETESTETESTETESTETESTETESTETESTETESTETESTETESTETESTETESTETESTETESTETESTETTESTETESTETESTETESTETESTETESTETESTETESTETESTETESTETESTETESTETESTETESTETESTETESTETESTETESTETESTETESTETESTETESTETESTETESTETESTETESTETESTETESTETESTETESTETESTETESTETESTETESTETESTETESTETESTETESTETESTETESTETESTETESTETESTETESTETESTETESTETESTETESTETESTETESTETESTETESTETESTETESTETESTETESTETESTETESTETESTETESTETESTETESTETESTETESTETESTETESTETESTETESTEESTETESTETESTETESTETESTETESTETESTETESTETESTETESTETESTETESTETESTETESTETESTETESTETESTETESTETESTETESTETESTETESTETESTETESTETESTETESTETESTETESTETESTETESTETESTETESTETESTETESTETESTETESTETESTETESTETESTETESTETESTETESTETESTETESTETESTETESTETESTETESTETESTETESTETTESTETESTETESTETESTETESTETESTETESTETESTETESTETESTETESTETESTETESTETESTETESTETESTETESTETESTETESTETESTETESTETESTETESTETESTETESTETESTETESTETESTETESTETESTETESTETESTETESTETESTETESTETESTETESTETESTETESTETESTETESTETESTETESTETESTETESTETESTETESTETESTETESTETESTETESTETESTETESTETESTETESTETESTETESTETESTETESTETESTETESTETESTETESTETESTETESTETESTETESTETESTEESTETESTETESTETESTETESTETESTETESTETESTETESTETESTETESTETESTETESTETESTETESTETESTETESTETESTETESTETESTETESTETESTETESTETESTETESTETESTETESTETESTETESTETESTETESTETESTETESTETESTETESTETESTETESTETESTETESTETESTETESTETESTETESTETESTETESTETESTETESTETESTETESTETESTETTESTETESTETESTETESTETESTETESTETESTETESTETESTETESTETESTETESTETESTETESTETESTETESTETESTETESTETESTETESTETESTETESTETESTETESTETESTETESTETESTETESTETESTETESTETESTETESTETESTETESTETESTETESTETESTETESTETESTETESTETESTETESTETESTETESTETESTETESTETESTETESTETESTETESTETESTETESTETESTETESTETESTETESTETESTETESTETESTETESTETESTETESTETESTETESTETESTETESTETESTETESTEESTETESTETESTETESTETESTETESTETESTETESTETESTETESTETESTETESTETESTETESTETESTETESTETESTETESTETESTETESTETESTETESTETESTETESTETESTETESTETESTETESTETESTETESTETESTETESTETESTETESTETESTETESTETESTETESTETESTETESTETESTETESTETESTETESTETESTETESTETESTETESTETESTETESTETTESTETESTETESTETESTETESTETESTETESTETESTETESTETESTETESTETESTETESTETESTETESTETESTETESTETESTETESTETESTETESTETESTETESTETESTETESTETESTETESTETESTETESTETESTETESTETESTETESTETESTETESTETESTETESTETESTETESTETESTETESTETESTETESTETESTETESTETESTETESTETESTETESTETESTETESTETESTETESTETESTETESTETESTETESTETESTETESTETESTETESTETESTETESTETESTETESTETESTETESTETESTEESTETESTETESTETESTETESTETESTETESTETESTETESTETESTETESTETESTETESTETESTETESTETESTETESTETESTETESTETESTETESTETESTETESTETESTETESTETESTETESTETESTETESTETESTETESTETESTETESTETESTETESTETESTETESTETESTETESTETESTETESTETESTETESTETESTETESTETESTETESTETESTETESTETESTETTESTETESTETESTETESTETESTETESTETESTETESTETESTETESTETESTETESTETESTETESTETESTETESTETESTETESTETESTETESTETESTETESTETESTETESTETESTETESTETESTETESTETESTETESTETESTETESTETESTETESTETESTETESTETESTETESTETESTETESTETESTETESTETESTETESTETESTETESTETESTETESTETESTETESTETESTETESTETESTETESTETESTETESTETESTETESTETESTETESTETESTETESTETESTETESTETESTETESTETESTETESTEESTETESTETESTETESTETESTETESTETESTETESTETESTETESTETESTETESTETESTETESTETESTETESTETESTETESTETESTETESTETESTETESTETESTETESTETESTETESTETESTETESTETESTETESTETESTETESTETESTETESTETESTETESTETESTETESTETESTETESTETESTETESTETESTETESTETESTETESTETESTETESTETESTETESTETTESTETESTETESTETESTETESTETESTETESTETESTETESTETESTETESTETESTETESTETESTETESTETESTETESTETESTETESTETESTETESTETESTETESTETESTETESTETESTETESTETESTETESTETESTETESTETESTETESTETESTETESTETESTETESTETESTETESTETESTETESTETESTETESTETESTETESTETESTETESTETESTETESTETESTETESTETESTETESTETESTETESTETESTETESTETESTETESTETESTETESTETESTETESTETESTETESTETESTETESTETESTEESTETESTETESTETESTETESTETESTETESTET TESTETESTETESTETTESTETESTETESTETTESTETESTETESTETTESTETESTETESTETTESTETESTETESTETTESTETESTETESTETTESTETESTETESTETTESTETESTETESTETTESTETESTETESTETTESTETESTETESTETTESTETESTETESTETTESTETESTETESTETTESTETESTETESTETTESTETESTETESTETTESTETESTETESTETTESTETESTETESTETTESTETESTETESTETTESTETESTETESTETTESTETESTETESTETTESTETESTETESTETTESTETESTETESTETTESTETESTETESTETTESTETESTETESTETTESTETESTETESTETTESTETESTETESTETTESTETESTETESTETTESTETESTETESTETTESTETESTETESTETTESTETESTETESTETTESTETESTETESTETTESTETESTETESTETTESTETESTETESTETTESTETESTETESTETTESTETESTETESTETTESTETESTETESTETTESTETESTETESTETTESTETESTETESTETTESTETESTETESTETTESTETESTETESTETTESTETESTETESTETTESTETESTETESTETTESTETESTETESTETTESTETESTETESTETTESTETESTETESTETTESTETESTETESTETTESTETESTETESTETTESTETESTETESTETTESTETESTETESTETTESTETESTETESTETTESTETESTETESTETTESTETESTETESTETTESTETESTETESTETTESTETESTETESTETTESTETESTETESTETTESTETESTETESTETTESTETESTETESTETTESTETESTETESTETTESTETESTETESTETTESTETESTETESTETTESTETESTETESTETTESTETESTETESTETTESTETESTETESTETTESTETESTETESTETTESTETESTETESTETTESTETESTETESTETTESTETESTETESTETTESTETESTETESTETTESTETESTETESTETTESTETESTETESTETTESTETESTETESTETTESTETESTETESTETTESTETESTETESTETTESTETESTETESTETTESTETESTETESTETTESTETESTETESTETTESTETESTETESTETTESTETESTETESTETTESTETESTETESTETTESTETESTETESTETTESTETESTETESTETTESTETESTETESTETTESTETESTETESTETTESTETESTETESTETTESTETESTETESTETTESTETESTETESTETTESTETESTETESTETTESTETESTETESTETTESTETESTETESTETTESTETESTETESTETTESTETESTETESTETTESTETESTETESTETTESTETESTETESTETTESTETESTETESTETTESTETESTETESTETTESTETESTETESTETTESTETESTETESTETTESTETESTETESTETTESTETESTETESTETTESTETESTETESTETTESTETESTETESTETTESTETESTETESTETTESTETESTETESTETTESTETESTETESTETTESTETESTETESTETTESTETESTETESTETTESTETESTETESTETTESTETESTETESTETTESTETESTETESTETTESTETESTETESTETTESTETESTETESTETTESTETESTETESTETTESTETESTETESTETTESTETESTETESTETTESTETESTETESTETTESTETESTETESTETTESTETESTETESTETTESTETESTETESTETTESTETESTETESTETTESTETESTETESTETTESTETESTETESTETTESTETESTETESTETTESTETESTETESTETTESTETESTETESTETTESTETESTETESTETTESTETESTETESTETTESTETESTETESTETTESTETESTETESTETTESTETESTETESTETTESTETESTETESTETTESTETESTETESTETTESTETESTETESTETTESTETESTETESTETTESTETESTETESTETTESTETESTETESTETTESTETESTETESTETTESTETESTETESTETTESTETESTETESTETTESTETESTETESTETTESTETESTETESTETTESTETESTETESTETTESTETESTETESTETTESTETESTETESTETTESTETESTETESTETTESTETESTETESTETESTETESTETESTETTESTETESTETESTETTESTETESTETESTETTESTETESTETESTETTESTETESTETESTETTESTETESTETESTETTESTETESTETESTETTESTETESTETESTETTESTETESTETESTETTESTETESTETESTETTESTETESTETESTETTESTETESTETESTETTESTETESTETESTETTESTETESTETESTETTESTETESTETESTETTESTETESTETESTETTESTETESTETESTETTESTETESTETESTETTESTETESTETESTETTESTETESTETESTETTESTETESTETESTETTESTETESTETESTETTESTETESTETESTETTESTETESTETESTETTESTETESTETESTETTESTETESTETESTETTESTETESTETESTETTESTETESTETESTETTESTETESTETESTETTESTETESTETESTETTESTETESTETESTETTESTETESTETESTETTESTETESTETESTETTESTETESTETESTETTESTETESTETESTETTESTETESTETESTETTESTETESTETESTETTESTETESTETESTETTESTETESTETESTETTESTETESTETESTETTESTETESTETESTETTESTETESTETESTETTESTETESTETESTETTESTETESTETESTETTESTETESTETESTETTESTETESTETESTETTESTETESTETESTETTESTETESTETESTETTESTETESTETESTETTESTETESTETESTETTESTETESTETESTETTESTETESTETESTETTESTETESTETESTETTESTETESTETESTETTESTETESTETESTETTESTETESTETESTETTESTETESTETESTETTESTETESTETESTETTESTETESTETESTETTESTETESTETESTETTESTETESTETESTETTESTETESTETESTETTESTETESTETESTETTESTETESTETESTETTESTETESTETESTETTESTETESTETESTETTESTETESTETESTETTESTETESTETESTETTESTETESTETESTETTESTETESTETESTETTESTETESTETESTETTESTETESTETESTETTESTETESTETESTETTESTETESTETESTETTESTETESTETESTETTESTETESTETESTETTESTETESTETESTETTESTETESTETESTETTESTETESTETESTETTESTETESTETESTETTESTETESTETESTETTESTETESTETESTETTESTETESTETESTETTESTETESTETESTETTESTETESTETESTETTESTETESTETESTETTESTETESTETESTETTESTETESTETESTETTESTETESTETESTETTESTETESTETESTETTESTETESTETESTETTESTETESTETESTETTESTETESTETESTETTESTETESTETESTETTESTETESTETESTETTESTETESTETESTETTESTETESTETESTETTESTETESTETESTETTESTETESTETESTETTESTETESTETESTETTESTETESTETESTETTESTETESTETESTETTESTETESTETESTETTESTETESTETESTETTESTETESTETESTETTESTETESTETESTETTESTETESTETESTETTESTETESTETESTETTESTETESTETESTETTESTETESTETESTETTESTETESTETESTETTESTETESTETESTETTESTETESTETESTETTESTETESTETESTETTESTETESTETESTETTESTETESTETESTETTESTETESTETESTETTESTETESTETESTETTESTETESTETESTETTESTETESTETESTETTESTETESTETESTETTESTETESTETESTETTESTETESTETESTETTESTETESTETESTETTESTETESTETESTETTESTETESTETESTETTESTETESTETESTETTESTETESTETESTETTESTETESTETESTETTESTETESTETESTETTESTETESTETESTETTESTETESTETESTETTESTETESTETESTETTESTETESTETESTETTESTETESTETESTETTESTETESTETESTETTESTETESTETESTETTESTETESTETESTETTESTETESTETESTETTESTETESTETESTETTESTETESTETESTETTESTETESTETESTETTESTETESTETESTETTESTETESTETESTETESTETESTETESTETTESTETESTETESTETTESTETESTETESTETTESTETESTETESTETTESTETESTETESTETTESTETESTETESTETTESTETESTETESTETTESTETESTETESTETTESTETESTETESTETTESTETESTETESTETTESTETESTETESTETTESTETESTETESTETTESTETESTETESTETTESTETESTETESTETTESTETESTETESTETTESTETESTETESTETTESTETESTETESTETTESTETESTETESTETTESTETESTETESTETTESTETESTETESTETTESTETESTETESTETTESTETESTETESTETTESTETESTETESTETTESTETESTETESTETTESTETESTETESTETTESTETESTETESTETTESTETESTETESTETTESTETESTETESTETTESTETESTETESTETTESTETESTETESTETTESTETESTETESTETTESTETESTETESTETTESTETESTETESTETTESTETESTETESTETTESTETESTETESTETTESTETESTETESTETTESTETESTETESTETTESTETESTETESTETTESTETESTETESTETTESTETESTETESTETTESTETESTETESTETTESTETESTETESTETTESTETESTETESTETTESTETESTETESTETTESTETESTETESTETTESTETESTETESTETTESTETESTETESTETTESTETESTETESTETTESTETESTETESTETTESTETESTETESTETTESTETESTETESTETTESTETESTETESTETTESTETESTETESTETTESTETESTETESTETTESTETESTETESTETTESTETESTETESTETTESTETESTETESTETTESTETESTETESTETTESTETESTETESTETTESTETESTETESTETTESTETESTETESTETTESTETESTETESTETTESTETESTETESTETTESTETESTETESTETTESTETESTETESTETTESTETESTETESTETTESTETESTETESTETTESTETESTETESTETTESTETESTETESTETTESTETESTETESTETTESTETESTETESTETTESTETESTETESTETTESTETESTETESTETTESTETESTETESTETTESTETESTETESTETTESTETESTETESTETTESTETESTETESTETTESTETESTETESTETTESTETESTETESTETTESTETESTETESTETTESTETESTETESTETTESTETESTETESTETTESTETESTETESTETTESTETESTETESTETTESTETESTETESTETTESTETESTETESTETTESTETESTETESTETTESTETESTETESTETTESTETESTETESTETTESTETESTETESTETTESTETESTETESTETTESTETESTETESTETTESTETESTETESTETTESTETESTETESTETTESTETESTETESTETTESTETESTETESTETTESTETESTETESTETTESTETESTETESTETTESTETESTETESTETTESTETESTETESTETTESTETESTETESTETTESTETESTETESTETTESTETESTETESTETTESTETESTETESTETTESTETESTETESTETTESTETESTETESTETTESTETESTETESTETTESTETESTETESTETTESTETESTETESTETTESTETESTETESTETTESTETESTETESTETTESTETESTETESTETTESTETESTETESTETTESTETESTETESTETTESTETESTETESTETTESTETESTETESTETTESTETESTETESTETTESTETESTETESTETTESTETESTETESTETTESTETESTETESTETTESTETESTETESTETTESTETESTETESTETTESTETESTETESTETTESTETESTETESTETTESTETESTETESTETTESTETESTETESTETTESTETESTETESTETTESTETESTETESTETTESTETESTETESTETTESTETESTETESTETTESTETESTETESTETTESTETESTETESTETTESTETESTETESTETTESTETESTETESTETTESTETESTETESTETTESTETESTETESTETTESTETESTETESTETTESTETESTETESTETTESTETESTETESTETTESTETESTETESTETTESTETESTETESTETTESTETESTETESTETTESTETESTETESTETTESTETESTETESTETESTETESTETESTETTESTETESTETESTETTESTETESTETESTETTESTETESTETESTETTESTETESTETESTETTESTETESTETESTETTESTETESTETESTETTESTETESTETESTETTESTETESTETESTETTESTETESTETESTETTESTETESTETESTETTESTETESTETESTETTESTETESTETESTETTESTETESTETESTETTESTETESTETESTETTESTETESTETESTETTESTETESTETESTETTESTETESTETESTETTESTETESTETESTETTESTETESTETESTETTESTETESTETESTETTESTETESTETESTETTESTETESTETESTETTESTETESTETESTETTESTETESTETESTETTESTETESTETESTETTESTETESTETESTETTESTETESTETESTETTESTETESTETESTETTESTETESTETESTETTESTETESTETESTETTESTETESTETESTETTESTETESTETESTETTESTETESTETESTETTESTETESTETESTETTESTETESTETESTETTESTETESTETESTETTESTETESTETESTETTESTETESTETESTETTESTETESTETESTETTESTETESTETESTETTESTETESTETESTETTESTETESTETESTETTESTETESTETESTETTESTETESTETESTETTESTETESTETESTETTESTETESTETESTETTESTETESTETESTETTESTETESTETESTETTESTETESTETESTETTESTETESTETESTETTESTETESTETESTETTESTETESTETESTETTESTETESTETESTETTESTETESTETESTETTESTETESTETESTETTESTETESTETESTETTESTETESTETESTETTESTETESTETESTETTESTETESTETESTETTESTETESTETESTETTESTETESTETESTETTESTETESTETESTETTESTETESTETESTETTESTETESTETESTETTESTETESTETESTETTESTETESTETESTETTESTETESTETESTETTESTETESTETESTETTESTETESTETESTETTESTETESTETESTETTESTETESTETESTETTESTETESTETESTETTESTETESTETESTETTESTETESTETESTETTESTETESTETESTETTESTETESTETESTETTESTETESTETESTETTESTETESTETESTETTESTETESTETESTETTESTETESTETESTETTESTETESTETESTETTESTETESTETESTETTESTETESTETESTETTESTETESTETESTETTESTETESTETESTETTESTETESTETESTETTESTETESTETESTETTESTETESTETESTETTESTETESTETESTETTESTETESTETESTETTESTETESTETESTETTESTETESTETESTETTESTETESTETESTETTESTETESTETESTETTESTETESTETESTETTESTETESTETESTETTESTETESTETESTETTESTETESTETESTETTESTETESTETESTETTESTETESTETESTETTESTETESTETESTETTESTETESTETESTETTESTETESTETESTETTESTETESTETESTETTESTETESTETESTETTESTETESTETESTETTESTETESTETESTETTESTETESTETESTETTESTETESTETESTETTESTETESTETESTETTESTETESTETESTETTESTETESTETESTETTESTETESTETESTETTESTETESTETESTETTESTETESTETESTETTESTETESTETESTETTESTETESTETESTETTESTETESTETESTETTESTETESTETESTETTESTETESTETESTETTESTETESTETESTETTESTETESTETESTETTESTETESTETESTETTESTETESTETESTETTESTETESTETESTETTESTETESTETESTETTESTETESTETESTETTESTETESTETESTETTESTETESTETESTETTESTETESTETESTETTESTETESTETESTETTESTETESTETESTETTESTETESTETESTETTESTETESTETESTETTESTETESTETESTETTESTETESTETESTETTESTETESTETESTETTESTETESTETESTETTESTETESTETESTETTESTETESTETESTETTESTETESTETESTETTESTETESTETESTETTESTETESTETESTET\n"
          ]
        }
      ]
    },
    {
      "cell_type": "markdown",
      "source": [
        "5) Escolha uma imagem e tente esconder o maior texto possível dentro dela, você\n",
        "percebe alguma diferença na imagem gerada?"
      ],
      "metadata": {
        "id": "7pXIVqmi7dIv"
      }
    },
    {
      "cell_type": "markdown",
      "source": [
        "R:*Sim a letras da imagem ficaram mais gordinha e fundo preto alem da qualidade reduzida*\n",
        "![image.png](data:image/png;base64,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)"
      ],
      "metadata": {
        "id": "KqVzov027eDx"
      }
    }
  ]
}